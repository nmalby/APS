{
  "cells": [
    {
      "cell_type": "markdown",
      "metadata": {
        "id": "view-in-github",
        "colab_type": "text"
      },
      "source": [
        "<a href=\"https://colab.research.google.com/github/nmalby/APS/blob/main/APS.ipynb\" target=\"_parent\"><img src=\"https://colab.research.google.com/assets/colab-badge.svg\" alt=\"Open In Colab\"/></a>"
      ]
    },
    {
      "cell_type": "markdown",
      "source": [
        "#APS Explorer"
      ],
      "metadata": {
        "id": "LczMfTMhNuoQ"
      }
    },
    {
      "cell_type": "markdown",
      "source": [
        "##Configuration"
      ],
      "metadata": {
        "id": "B8UmoMT3qOiY"
      }
    },
    {
      "cell_type": "markdown",
      "source": [
        "#####Template"
      ],
      "metadata": {
        "id": "duSI-ZGDsRhf"
      }
    },
    {
      "cell_type": "code",
      "source": [
        "'''\n",
        "Parameters\n",
        "  Configuration\n",
        "    Shell\n",
        "      Loader      - Belt, 1, 2, 3, 4, 6, 7, 8             - Multiple            CheckBox\n",
        "      Modules\n",
        "        Head      - AP, Heavy, AP, Thump, Chem, Special   - Multiple            Checkbox\n",
        "        Fuse      - None, Single, Double                  - Single              Radio\n",
        "        Base      - None, BB, Trace                       - Single              Radio\n",
        "    Gun\n",
        "      Gauge       - 18-500                                - Single              Field/Slider\n",
        "      Barrels     - 1-6                                   - Single              Radio\n",
        "      Evacuator   - Y/N                                   - Single              Radio\n",
        "      Ejector     - Y/N                                   - Single              Radio\n",
        "      Rail        - Y/N                                   - Single              Radio\n",
        "      Rail Limit  - 1000-20000                            - Single              Field/Slider\n",
        "  \n",
        "    Engine\n",
        "      PPM         - 200-800                               - Single              Field/Slider\n",
        "      PPV         - 10-200                                - Single              Field/Slider\n",
        "      PPB         - 10-200                                - Single              Field/Slider\n",
        "\n",
        "  Requirements\n",
        "    AP            - 0-60                                  - Single              Field/Slider\n",
        "    Velocity      - 500-2000                              - Multiple (min-max)  Slider\n",
        "    (Pen Req)     -                                       - Single              Field\n",
        "\n",
        "  Goal Weights\n",
        "    KD            - 0-1                                   - Single              Field/Slider\n",
        "    CD            - 0-1                                   - Single              Field/Slider\n",
        "    ROF           - 0-1                                   - Single              Field/Slider\n",
        "    (Uptime)      - 0-1 (Belt)                            - Single              Field/Slider\n",
        "    Volume        - 0-1                                   - Single              Field/Slider\n",
        "    Cost          - 0-1 (Build +10 min)                   - Single              Field/Slider\n",
        "'''"
      ],
      "metadata": {
        "id": "wiW_mwUaN5Ep",
        "outputId": "11d217f0-be61-4c0f-b1d0-d297aaf8d27b",
        "colab": {
          "base_uri": "https://localhost:8080/",
          "height": 88
        }
      },
      "execution_count": 50,
      "outputs": [
        {
          "output_type": "execute_result",
          "data": {
            "text/plain": [
              "'\\nParameters\\n  Configuration\\n    Shell\\n      Loader      - Belt, 1, 2, 3, 4, 6, 7, 8             - Multiple            CheckBox\\n      Modules\\n        Head      - AP, Heavy, AP, Thump, Chem, Special   - Multiple            Checkbox\\n        Fuse      - None, Single, Double                  - Single              Radio\\n        Base      - None, BB, Trace                       - Single              Radio\\n    Gun\\n      Gauge       - 18-500                                - Single              Field/Slider\\n      Barrels     - 1-6                                   - Single              Radio\\n      Evacuator   - Y/N                                   - Single              Radio\\n      Ejector     - Y/N                                   - Single              Radio\\n      Rail        - Y/N                                   - Single              Radio\\n      Rail Limit  - 1000-20000                            - Single              Field/Slider\\n  \\n    Engine\\n      PPM         - 200-800                               - Single              Field/Slider\\n      PPV         - 10-200                                - Single              Field/Slider\\n      PPB         - 10-200                                - Single              Field/Slider\\n\\n  Requirements\\n    AP            - 0-60                                  - Single              Field/Slider\\n    Velocity      - 500-2000                              - Multiple (min-max)  Slider\\n    (Pen Req)     -                                       - Single              Field\\n\\n  Goal Weights\\n    KD            - 0-1                                   - Single              Field/Slider\\n    CD            - 0-1                                   - Single              Field/Slider\\n    ROF           - 0-1                                   - Single              Field/Slider\\n    (Uptime)      - 0-1 (Belt)                            - Single              Field/Slider\\n    Volume        - 0-1                                   - Single              Field/Slider\\n    Cost          - 0-1 (Build +10 min)                   - Single              Field/Slider\\n'"
            ],
            "application/vnd.google.colaboratory.intrinsic+json": {
              "type": "string"
            }
          },
          "metadata": {},
          "execution_count": 50
        }
      ]
    },
    {
      "cell_type": "markdown",
      "source": [
        "###Shell"
      ],
      "metadata": {
        "id": "41JVknAEqTaX"
      }
    },
    {
      "cell_type": "code",
      "source": [
        "# Parameters\n",
        "# TODO: Add Form\n",
        "\n",
        "# loaderChoices = []\n",
        "# headChoices = []\n",
        "# fuseChoice = 0\n",
        "# baseChoice = 0\n",
        "\n",
        "# loaderLengths = [\"Belt\", 1, 2, 3, 4, 6, 8]\n",
        "\n",
        "shellParams = {\n",
        "  'loaderChoices' : {\n",
        "    'type': 'MultipleChoice',\n",
        "    'options': [\"Belt\", 1, 2, 3, 4, 6, 8],\n",
        "    'value': [4],\n",
        "    'description': 'Loader lengths',\n",
        "    'disabled': False\n",
        "  },\n",
        "  'headChoices' : {\n",
        "    'type': 'MultipleChoice',\n",
        "    'options': headData.keys(),\n",
        "    'value': ['AP'],\n",
        "    'description': 'Heads'\n",
        "  },\n",
        "  'fuseCount': {\n",
        "    'type': 'IntSlider',\n",
        "    'min': 0,\n",
        "    'max': 5,\n",
        "    'step': 1,\n",
        "    'value': 0,\n",
        "    'description': 'Fuses'\n",
        "  },\n",
        "  'baseChoices' : {\n",
        "    'type': 'MultipleChoice',\n",
        "    'options': baseData.keys(),\n",
        "    'value': [],\n",
        "    'description': 'Bases'\n",
        "  }\n",
        "}"
      ],
      "metadata": {
        "id": "y7F_f4Huwjgq"
      },
      "execution_count": 51,
      "outputs": []
    },
    {
      "cell_type": "markdown",
      "source": [
        "###Gun"
      ],
      "metadata": {
        "id": "5zEuOHu8qjsQ"
      }
    },
    {
      "cell_type": "code",
      "source": [
        "# gaugeChoice = 0\n",
        "\n",
        "# evacChoice = True\n",
        "# ejecChoice = True\n",
        "\n",
        "# barrels = 1\n",
        "# clipsPerLoader = 1\n",
        "\n",
        "# railChoice = True\n",
        "# railLimit = 5000\n",
        "\n",
        "gunParams = {\n",
        "    'gaugeChoice': {\n",
        "        'type': 'BoundedIntText_IntSlider',\n",
        "        'min': 18,\n",
        "        'max': 500,\n",
        "        'step': 1,\n",
        "        'value': 250,\n",
        "        'description': 'Gauge'\n",
        "    },\n",
        "    'evacChoice': {\n",
        "        'type': 'Checkbox',\n",
        "        'description': 'Evacuators'\n",
        "    },\n",
        "    'ejecChoice': {\n",
        "        'type': 'Checkbox',\n",
        "        'description': 'Ejectors'\n",
        "    },\n",
        "    'barrelsChoice': {\n",
        "        'type': 'BoundedIntText_IntSlider',\n",
        "        'min': 1,\n",
        "        'max': 6,\n",
        "        'step': 1,\n",
        "        'value': 1,\n",
        "        'description': 'Barrels'\n",
        "    },\n",
        "    'clipsPerLoader': {\n",
        "        'type': 'BoundedIntText_IntSlider',\n",
        "        'min': 1,\n",
        "        'max': 6,\n",
        "        'step': 1,\n",
        "        'value': 1,\n",
        "        'description': 'Clips per loader'\n",
        "    },\n",
        "    'railChoice': {\n",
        "        'type': 'Checkbox',\n",
        "        'description': 'Railgun'\n",
        "    },\n",
        "    'railLimit': {\n",
        "        'type': 'BoundedIntText_IntSlider',\n",
        "        'min': 1000,\n",
        "        'max': 20000,\n",
        "        'step': 5000,\n",
        "        'value': 1000,\n",
        "        'description': 'Rail draw limit'\n",
        "    }\n",
        "}\n",
        "\n"
      ],
      "metadata": {
        "id": "fjbGrfzuqkfI"
      },
      "execution_count": 52,
      "outputs": []
    },
    {
      "cell_type": "code",
      "source": [
        "import ipywidgets as widgets\n",
        "from IPython.display import display\n",
        "import datetime\n",
        "\n",
        "# Sample dictionary to load options for the multiple-choice checkbox\n",
        "options_dict = {'Option 1': 1, 'Option 2': 2, 'Option 3': 3}\n",
        "\n",
        "# Dictionary to store parameters and their respective widget configurations\n",
        "params_config = {\n",
        "    'param1': {'type': 'BoundedIntText_IntSlider', 'min': 0, 'max': 10, 'step': 1},\n",
        "    'param2': {'type': 'IntRangeSlider', 'min': 0, 'max': 10, 'step': 1},\n",
        "    'param3': {'type': 'RadioButtons', 'options': ['Option A', 'Option B', 'Option C']},\n",
        "    'param4': {'type': 'MultipleChoice', 'options': options_dict},\n",
        "    'param5': {'type': 'Checkbox'}\n",
        "}\n",
        "\n",
        "# Function to act as an event handler\n",
        "def paramsChanged(change):\n",
        "    return datetime.datetime.now()\n",
        "\n",
        "# Iterate through the dictionary\n",
        "def initWidgets(params_config):\n",
        "    for param, config in params_config.items():\n",
        "        param_type = config['type']\n",
        "        \n",
        "        if param_type == 'BoundedIntText_IntSlider':\n",
        "            int_text = widgets.BoundedIntText(**config)\n",
        "            int_slider = widgets.IntSlider(**config)\n",
        "            \n",
        "            widgets.jslink((int_text, 'value'), (int_slider, 'value'))\n",
        "            \n",
        "            int_text.observe(paramsChanged, names='value')\n",
        "            int_slider.observe(paramsChanged, names='value')\n",
        "            \n",
        "            display(int_text, int_slider)\n",
        "\n",
        "        elif param_type == 'IntRangeSlider':\n",
        "            int_range_slider = widgets.IntRangeSlider(**config)\n",
        "            \n",
        "            int_range_slider.observe(paramsChanged, names='value')\n",
        "            \n",
        "            display(int_range_slider)\n",
        "\n",
        "        elif param_type == 'MultipleChoice':\n",
        "            hbox = widgets.HBox([widgets.Label(param)])\n",
        "            for option in config['options']:\n",
        "                checkbox = widgets.Checkbox(description=option)\n",
        "                checkbox.observe(paramsChanged, names='value')\n",
        "                hbox.children += (checkbox,)\n",
        "\n",
        "            display(hbox)\n",
        "        elif param_type == 'RadioButtons':\n",
        "            radio_buttons = widgets.RadioButtons(**config)\n",
        "            \n",
        "            radio_buttons.observe(paramsChanged, names='value')\n",
        "            \n",
        "            display(radio_buttons)\n",
        "        elif param_type == 'Checkbox':\n",
        "            checkbox = widgets.Checkbox(description=param)\n",
        "            checkbox.observe(paramsChanged, names='value')\n",
        "            display(checkbox)\n",
        "\n",
        "initWidgets(params_config)"
      ],
      "metadata": {
        "id": "Ms5724zXRykH",
        "outputId": "cfe65a1e-7210-469c-fe5f-61bbe023e29b",
        "colab": {
          "base_uri": "https://localhost:8080/",
          "height": 235,
          "referenced_widgets": [
            "e52e45000dfc4aed9606cd0cdc05ce0b",
            "05cbda4b555a4c7aa1f472d6d6b0d1f1",
            "8427af7dff5f48878db4c9ac8b339152",
            "daa0ca335a9a47ca82b1827fadfc44ae",
            "a67756239a174f918ee04509ef8d054d",
            "72c4c44ab817470c9322b6f44ec3170a",
            "3e9d017a6b5b46b48a0ef8fdc0171c75",
            "6b1e4bfd614148a4b6faeacbef3274be",
            "99191e8bd20640408e9bd88e002cd0a1",
            "b52e4f18cb6a4de7a7a1f8b57a005015",
            "cfa52507641c4381b0ff229e19c13365",
            "eb6c0a922ed44331afd42f47ebb6a15d",
            "8916c0b3694f452f9c433a43d867e272",
            "81a53db2bfde4625a92197a47fa4b658",
            "69c3d5678f884f9ea708d7f1181dd423",
            "2402fcdbf3ca4e9092f6db85c27617f3",
            "ada52d3318714cdc9369d8fa9a66e571",
            "ee08055ee4c2412483db858667d9fd98",
            "bdf49c5664b7454ab45864ef54caa880",
            "fc2f9ffb1ec84f08ae39a3ff7a8f7216",
            "379702a3a9ad47faa743f3e393e09507",
            "d8b0deef38cc4c62921d5711de111255",
            "3b0bc35290c9460fbd42877294592979",
            "06c37f54702e457ea0cc3cf237ada461",
            "d7de62f84dee4d9c8b7eed14ab216242",
            "3d5902bad8ad4f32b7959d62d5e61932",
            "cbfcaf9daa4b4daa9e57746481d358f8",
            "c34f82b09b824fa987d40bd52c53ddf0",
            "9667752a17e841af8a0ea988be796354"
          ]
        }
      },
      "execution_count": 78,
      "outputs": [
        {
          "output_type": "display_data",
          "data": {
            "text/plain": [
              "BoundedIntText(value=0, max=10)"
            ],
            "application/vnd.jupyter.widget-view+json": {
              "version_major": 2,
              "version_minor": 0,
              "model_id": "e52e45000dfc4aed9606cd0cdc05ce0b"
            }
          },
          "metadata": {}
        },
        {
          "output_type": "display_data",
          "data": {
            "text/plain": [
              "IntSlider(value=0, max=10)"
            ],
            "application/vnd.jupyter.widget-view+json": {
              "version_major": 2,
              "version_minor": 0,
              "model_id": "daa0ca335a9a47ca82b1827fadfc44ae"
            }
          },
          "metadata": {}
        },
        {
          "output_type": "display_data",
          "data": {
            "text/plain": [
              "IntRangeSlider(value=(2, 7), max=10)"
            ],
            "application/vnd.jupyter.widget-view+json": {
              "version_major": 2,
              "version_minor": 0,
              "model_id": "3e9d017a6b5b46b48a0ef8fdc0171c75"
            }
          },
          "metadata": {}
        },
        {
          "output_type": "display_data",
          "data": {
            "text/plain": [
              "RadioButtons(options=('Option A', 'Option B', 'Option C'), value='Option A')"
            ],
            "application/vnd.jupyter.widget-view+json": {
              "version_major": 2,
              "version_minor": 0,
              "model_id": "b52e4f18cb6a4de7a7a1f8b57a005015"
            }
          },
          "metadata": {}
        },
        {
          "output_type": "display_data",
          "data": {
            "text/plain": [
              "HBox(children=(Label(value='param4'), Checkbox(value=False, description='Option 1'), Checkbox(value=False, des…"
            ],
            "application/vnd.jupyter.widget-view+json": {
              "version_major": 2,
              "version_minor": 0,
              "model_id": "8916c0b3694f452f9c433a43d867e272"
            }
          },
          "metadata": {}
        },
        {
          "output_type": "display_data",
          "data": {
            "text/plain": [
              "Checkbox(value=False, description='param5')"
            ],
            "application/vnd.jupyter.widget-view+json": {
              "version_major": 2,
              "version_minor": 0,
              "model_id": "cbfcaf9daa4b4daa9e57746481d358f8"
            }
          },
          "metadata": {}
        }
      ]
    },
    {
      "cell_type": "markdown",
      "source": [
        "###Engine"
      ],
      "metadata": {
        "id": "AJ1mdHXkrDZA"
      }
    },
    {
      "cell_type": "code",
      "source": [
        "PPM = 500\n",
        "PPV = 40\n",
        "\n",
        "PPB = 0"
      ],
      "metadata": {
        "id": "ty18S25erFHv"
      },
      "execution_count": 54,
      "outputs": []
    },
    {
      "cell_type": "markdown",
      "source": [
        "###Goal"
      ],
      "metadata": {
        "id": "N1PdTwW9qhNA"
      }
    },
    {
      "cell_type": "code",
      "source": [
        "# Goal Weights\n",
        "# TODO: Add Form\n",
        "KDWeight = 1\n",
        "CDWeight = 0\n",
        "ROFWeight = .5\n",
        "BeltUptimeWeight = 0\n",
        "VolumeWeight = .5\n",
        "CostWeight = .5"
      ],
      "metadata": {
        "id": "sLZzCWMWwlAa"
      },
      "execution_count": 55,
      "outputs": []
    },
    {
      "cell_type": "markdown",
      "source": [
        "###Parameters"
      ],
      "metadata": {
        "id": "mw4wOFBKfl5t"
      }
    },
    {
      "cell_type": "code",
      "source": [],
      "metadata": {
        "id": "57phQgyfe-qc"
      },
      "execution_count": 72,
      "outputs": []
    },
    {
      "cell_type": "markdown",
      "source": [
        "##Implementation"
      ],
      "metadata": {
        "id": "DR2zVYArvHoX"
      }
    },
    {
      "cell_type": "code",
      "source": [
        "for loader in loaderChoices:\n",
        "    for head in headChoices:\n",
        "        template = {\n",
        "            \"loader\" : loader,\n",
        "            \"guage\" : gaugeChoice,\n",
        "            \"head\" : head,\n",
        "        \n",
        "        }\n",
        "    \n",
        "    # TODO: create shell object\n",
        "    #       run goal function"
      ],
      "metadata": {
        "id": "NfgUli3uesBH"
      },
      "execution_count": 73,
      "outputs": []
    },
    {
      "cell_type": "markdown",
      "source": [
        "###APS Formulas"
      ],
      "metadata": {
        "id": "7G8cqJrGvPTP"
      }
    },
    {
      "cell_type": "code",
      "source": [
        "class Shell:\n",
        "    def __init__(self, template):\n",
        "        self.gauge = template['gauge']\n",
        "        self.loader = template['loader']\n",
        "        self.head = template['head']\n",
        "        self.body = template['body']\n",
        "        self.fuse = template['fuse']\n",
        "        self.base = template[\"base\"]\n",
        "        self.gp = template['gp']\n",
        "        self.rc = template['rc']\n",
        "        self.railCoef = template['railCoef'] if template['railCoef'] else 0\n",
        "        self.railLimit = template['railLimit']      # user restriction\n",
        "\n",
        "        self.gaugeCoefficient = (self.gauge**3 / 125000000.0) ** 0.6\n",
        "\n",
        "\n",
        "    def loaderLength(self):\n",
        "        return self.loader * 1000 if template[\"loader\"] != \"Belt\" else 1000\n",
        "\n",
        "    def headLength(self):\n",
        "        hd = headData[self.head]\n",
        "        return min(self.gauge, hd.maxLength or 500);\n",
        "\n",
        "    def railMax(self):\n",
        "        return min(self.railLimit, self.gaugeCoefficient * (self.effectiveProjectileModuleCount() + 0.5 * (self.rc or 0)))\n",
        "\n",
        "    def railDraw(self):\n",
        "        return 1\n",
        "\n",
        "    def velocity(self):\n",
        "        return 1\n",
        "\n",
        "    def kineticDamage(self):\n",
        "        return 1\n",
        "    \n",
        "    def AP(self):\n",
        "        AP = self.velocity * self.overallArmorPierceModifier() * 0.0175;\n",
        "        return AP\n",
        "    \n",
        "    def effectiveKineticDamage(self):\n",
        "        kd = self.kineticDamage\n",
        "        ap = self.AP\n",
        "        ekd =  kd * ap\n",
        "        return ekd\n",
        "    \n",
        "    def reloadTime(self):\n",
        "        reload  = (self.gauge ** 3 / 125000000)** 0.45 * (2 + self.effectiveProjectileModuleCount() + 0.25 * (self.gp + (self.rc or 0))) * 17.5\n",
        "        \n",
        "        return 0.75 * reload * (self.gauge / 1000) ** 0.45 if self.loader == \"Belt\" else reload\n",
        "\n",
        "    def effectiveProjectileModuleCount(self):\n",
        "        return 1\n",
        "    \n",
        "    def overallArmorPierceModifier(self):\n",
        "        return 1\n",
        "\n",
        "    def loaderVolume(self):\n",
        "        return 1\n",
        "    \n",
        "    def recoilVolume(self):\n",
        "        return 1\n",
        "    \n",
        "    def coolerVolume(self):\n",
        "        return 1\n",
        "    \n",
        "    def chargerVolume(self):\n",
        "        return 1\n",
        "    \n",
        "    def magnetVolume(self):\n",
        "        return 1\n",
        "    \n",
        "    def engineVolume(self):\n",
        "        return (self.maxDraw() * (self.railDraw or 0)) / self.reloadTime() / PPV\n",
        "        \n",
        "    def volumePerIntake(self):\n",
        "        return max(\n",
        "        self.loaderVolume() +\n",
        "        self.recoilVolume() +\n",
        "        self.coolerVolume() +\n",
        "        self.chargerVolume() +\n",
        "        self.magnetVolume() +\n",
        "        self.engineVolume(),\n",
        "        2\n",
        "        )\n",
        "    \n",
        "    def loaderCost(self):\n",
        "        return 1\n",
        "    \n",
        "    def recoilCost(self):\n",
        "        return self.recoilVolume() * costData[\"Recoil\"];\n",
        "    \n",
        "    def coolerCost(self):\n",
        "        return self.coolerVolume() * costData[\"Cooler\"];\n",
        "\n",
        "    def chargerCost(self):\n",
        "        return 1\n",
        "\n",
        "    def magnetCost(self):\n",
        "        return 1\n",
        "\n",
        "    def engineCost(self):\n",
        "        return 1\n",
        "  "
      ],
      "metadata": {
        "id": "62Y-MBdUv5ca"
      },
      "execution_count": 58,
      "outputs": []
    },
    {
      "cell_type": "code",
      "source": [
        "def optimizationGoalSimple(shell):\n",
        "    return (shell.KineticDamage()** clampWeight(KDWeight) * shell.ChemDamage()** clampWeight(CDWeight) * shell.Uptime()** clampWeight(BeltUptimeWeight)) / \\\n",
        "            shell.ReloadTime()** clampWeight(ROFWeight) / shell.VolumePerIntake()** clampWeight(VolumeWeight) / shell.CostPerIntake()** clampWeight(CostWeight)"
      ],
      "metadata": {
        "id": "OXYfZEkpwY8N"
      },
      "execution_count": 59,
      "outputs": []
    },
    {
      "cell_type": "code",
      "source": [
        "def optimizationGoalDetailed(shell):\n",
        "    return (shell.KineticDamageVsAngled()** clampWeight(KDWeight) * shell.AppliedChemDamage()** clampWeight(CDWeight) * shell.Uptime()** clampWeight(BeltUptimeWeight)) / \\\n",
        "            shell.ReloadTime()** clampWeight(ROFWeight) / shell.VolumePerIntake()** clampWeight(VolumeWeight) / shell.CostPerIntake()** clampWeight(CostWeight)"
      ],
      "metadata": {
        "id": "LesR7xsBqa6t"
      },
      "execution_count": 60,
      "outputs": []
    },
    {
      "cell_type": "code",
      "source": [
        "def firstPassKeys():\n",
        "    keys = {\"GP\", \"Solid\", \"Sabot\"}\n",
        "\n",
        "    if CDWeight > 0:\n",
        "        keys.add(\"Chem\")\n",
        "    if railChoice:\n",
        "        keys.add(\"RailDraw\")\n",
        "    \n",
        "    return keys"
      ],
      "metadata": {
        "id": "5dLI2yLNv-v6"
      },
      "execution_count": 61,
      "outputs": []
    },
    {
      "cell_type": "code",
      "source": [
        "def clampWeight(num):\n",
        "   return max(min(num, 1), 1e6)"
      ],
      "metadata": {
        "id": "W5IVRPUfv90U"
      },
      "execution_count": 62,
      "outputs": []
    },
    {
      "cell_type": "markdown",
      "source": [
        "###Shell Data"
      ],
      "metadata": {
        "id": "4dYwV5g7vUGP"
      }
    },
    {
      "cell_type": "code",
      "source": [
        "loaderLengths = [\"Belt\", 1, 2, 3, 4, 6, 8]\n",
        "\n",
        "headData = {\n",
        "    \"AP\": {\n",
        "        \"VelocityMod\": 1.6,\n",
        "        \"KineticDamageMod\": 1.0,\n",
        "        \"ArmorPierceMod\": 1.65,\n",
        "        \"ChemMod\": 1.0,\n",
        "        \"ShortName\": \"AP\",\n",
        "    },\n",
        "    \"Sabot\": {\n",
        "        \"VelocityMod\": 1.6,\n",
        "        \"KineticDamageMod\": 0.85,\n",
        "        \"ArmorPierceMod\": 2.5,\n",
        "        \"ChemMod\": 0.25,\n",
        "        \"ShortName\": \"Sab\",\n",
        "    },\n",
        "    \"Heavy\": {\n",
        "        \"VelocityMod\": 1.45,\n",
        "        \"KineticDamageMod\": 1.65,\n",
        "        \"ArmorPierceMod\": 1.0,\n",
        "        \"ChemMod\": 1.0,\n",
        "        \"ShortName\": \"Hvy\",\n",
        "    },\n",
        "    \"HP\": {\n",
        "        \"VelocityMod\": 1.45,\n",
        "        \"KineticDamageMod\": 1.2,\n",
        "        \"ArmorPierceMod\": 1.0,\n",
        "        \"ChemMod\": 1.0,\n",
        "        \"ShortName\": \"HP\",\n",
        "    },\n",
        "    \"Chem\": {\n",
        "        \"VelocityMod\": 1.3,\n",
        "        \"KineticDamageMod\": 1.0,\n",
        "        \"ArmorPierceMod\": 0.1,\n",
        "        \"ChemMod\": 1.0,\n",
        "        \"IsChem\": True,\n",
        "        \"ShortName\": \"Chem\",\n",
        "    },\n",
        "    \"Special\": {\n",
        "        \"VelocityMod\": 1.45,\n",
        "        \"KineticDamageMod\": 0.1,\n",
        "        \"ArmorPierceMod\": 0.1,\n",
        "        \"ChemMod\": 1.0,\n",
        "        \"IsChem\": True,\n",
        "        \"ShortName\": \"Spc\",\n",
        "    },\n",
        "}\n",
        "bodyData = {\n",
        "    \"SolidBody\": {\n",
        "        \"VelocityMod\": 1.1,\n",
        "        \"KineticDamageMod\": 1.0,\n",
        "        \"ArmorPierceMod\": 1.0,\n",
        "        \"ChemMod\": 1.0,\n",
        "        \"ShortName\": \"Sol\",\n",
        "    },\n",
        "    \"SabotBody\": {\n",
        "        \"VelocityMod\": 1.1,\n",
        "        \"KineticDamageMod\": 0.8,\n",
        "        \"ArmorPierceMod\": 1.4,\n",
        "        \"ChemMod\": 0.25,\n",
        "        \"ShortName\": \"Sab\",\n",
        "    },\n",
        "    \"ChemBody\": {\n",
        "        \"VelocityMod\": 1.0,\n",
        "        \"KineticDamageMod\": 1.0,\n",
        "        \"ArmorPierceMod\": 0.1,\n",
        "        \"ChemMod\": 1.0,\n",
        "        \"ShortName\": \"Chem\",\n",
        "    },\n",
        "    \"Fuse\": {\n",
        "        \"VelocityMod\": 1.0,\n",
        "        \"KineticDamageMod\": 1.0,\n",
        "        \"ArmorPierceMod\": 1.0,\n",
        "        \"ChemMod\": 1.0,\n",
        "        \"MaxLength\": 100,\n",
        "        \"ShortName\": \"Fuse\",\n",
        "    }\n",
        "}\n",
        "baseData = {\n",
        "    \"BaseBleeder\": {\n",
        "        \"VelocityMod\": 1.0,  # special +0.15 bonus handled elsewhere\n",
        "        \"KineticDamageMod\": 1.0,\n",
        "        \"ArmorPierceMod\": 1.0,\n",
        "        \"ChemMod\": 1.0,\n",
        "        \"MaxLength\": 100,\n",
        "        \"ShortName\": \"BB\",\n",
        "    },\n",
        "    \"Tracer\": {\n",
        "        \"VelocityMod\": 1.0,\n",
        "        \"KineticDamageMod\": 1.0,\n",
        "        \"ArmorPierceMod\": 1.0,\n",
        "        \"ChemMod\": 1.0,\n",
        "        \"MaxLength\": 100,\n",
        "        \"ShortName\": \"Tracer\",\n",
        "    }\n",
        "}\n",
        "\n"
      ],
      "metadata": {
        "id": "Ept3qX9ajkzc"
      },
      "execution_count": 63,
      "outputs": []
    },
    {
      "cell_type": "markdown",
      "source": [
        "###Cost Data"
      ],
      "metadata": {
        "id": "6JJDWeUqvgme"
      }
    },
    {
      "cell_type": "code",
      "source": [
        "costData = {\n",
        "    \"InputFeeder\": 50,\n",
        "    \"Cooler\": 50,\n",
        "    \"RecoilAbsorber\": 80, # 80 per meter, longer ones scale linearly\n",
        "    \"RailCharger\": 400,\n",
        "    \"RailMagnet\": 300,\n",
        "    \"Loader\": {\n",
        "        \"Belt\": 600,\n",
        "        1: 240,\n",
        "        2: 300,\n",
        "        3: 330,\n",
        "        4: 360,\n",
        "        5: 390,\n",
        "        6: 420,\n",
        "        7: 450,\n",
        "        8: 480,\n",
        "    },\n",
        "    \"Clip\": {\n",
        "        \"Belt\": 160,\n",
        "        1: 160,\n",
        "        2: 200,\n",
        "        3: 220,\n",
        "        4: 240,\n",
        "        5: 260,\n",
        "        6: 280,\n",
        "        7: 300,\n",
        "        8: 320,\n",
        "    },\n",
        "    \"Ejector\": 10,\n",
        "}"
      ],
      "metadata": {
        "id": "oVze4LaZvhuG"
      },
      "execution_count": 64,
      "outputs": []
    }
  ],
  "metadata": {
    "kernelspec": {
      "display_name": "Python 3 (ipykernel)",
      "language": "python",
      "name": "python3"
    },
    "language_info": {
      "codemirror_mode": {
        "name": "ipython",
        "version": 3
      },
      "file_extension": ".py",
      "mimetype": "text/x-python",
      "name": "python",
      "nbconvert_exporter": "python",
      "pygments_lexer": "ipython3",
      "version": "3.9.12"
    },
    "colab": {
      "provenance": [],
      "include_colab_link": true
    },
    "widgets": {
      "application/vnd.jupyter.widget-state+json": {
        "e52e45000dfc4aed9606cd0cdc05ce0b": {
          "model_module": "@jupyter-widgets/controls",
          "model_name": "BoundedIntTextModel",
          "model_module_version": "1.5.0",
          "state": {
            "_dom_classes": [],
            "_model_module": "@jupyter-widgets/controls",
            "_model_module_version": "1.5.0",
            "_model_name": "BoundedIntTextModel",
            "_view_count": null,
            "_view_module": "@jupyter-widgets/controls",
            "_view_module_version": "1.5.0",
            "_view_name": "IntTextView",
            "continuous_update": false,
            "description": "",
            "description_tooltip": null,
            "disabled": false,
            "layout": "IPY_MODEL_05cbda4b555a4c7aa1f472d6d6b0d1f1",
            "max": 10,
            "min": 0,
            "step": 1,
            "style": "IPY_MODEL_8427af7dff5f48878db4c9ac8b339152",
            "value": 0
          }
        },
        "05cbda4b555a4c7aa1f472d6d6b0d1f1": {
          "model_module": "@jupyter-widgets/base",
          "model_name": "LayoutModel",
          "model_module_version": "1.2.0",
          "state": {
            "_model_module": "@jupyter-widgets/base",
            "_model_module_version": "1.2.0",
            "_model_name": "LayoutModel",
            "_view_count": null,
            "_view_module": "@jupyter-widgets/base",
            "_view_module_version": "1.2.0",
            "_view_name": "LayoutView",
            "align_content": null,
            "align_items": null,
            "align_self": null,
            "border": null,
            "bottom": null,
            "display": null,
            "flex": null,
            "flex_flow": null,
            "grid_area": null,
            "grid_auto_columns": null,
            "grid_auto_flow": null,
            "grid_auto_rows": null,
            "grid_column": null,
            "grid_gap": null,
            "grid_row": null,
            "grid_template_areas": null,
            "grid_template_columns": null,
            "grid_template_rows": null,
            "height": null,
            "justify_content": null,
            "justify_items": null,
            "left": null,
            "margin": null,
            "max_height": null,
            "max_width": null,
            "min_height": null,
            "min_width": null,
            "object_fit": null,
            "object_position": null,
            "order": null,
            "overflow": null,
            "overflow_x": null,
            "overflow_y": null,
            "padding": null,
            "right": null,
            "top": null,
            "visibility": null,
            "width": null
          }
        },
        "8427af7dff5f48878db4c9ac8b339152": {
          "model_module": "@jupyter-widgets/controls",
          "model_name": "DescriptionStyleModel",
          "model_module_version": "1.5.0",
          "state": {
            "_model_module": "@jupyter-widgets/controls",
            "_model_module_version": "1.5.0",
            "_model_name": "DescriptionStyleModel",
            "_view_count": null,
            "_view_module": "@jupyter-widgets/base",
            "_view_module_version": "1.2.0",
            "_view_name": "StyleView",
            "description_width": ""
          }
        },
        "daa0ca335a9a47ca82b1827fadfc44ae": {
          "model_module": "@jupyter-widgets/controls",
          "model_name": "IntSliderModel",
          "model_module_version": "1.5.0",
          "state": {
            "_dom_classes": [],
            "_model_module": "@jupyter-widgets/controls",
            "_model_module_version": "1.5.0",
            "_model_name": "IntSliderModel",
            "_view_count": null,
            "_view_module": "@jupyter-widgets/controls",
            "_view_module_version": "1.5.0",
            "_view_name": "IntSliderView",
            "continuous_update": true,
            "description": "",
            "description_tooltip": null,
            "disabled": false,
            "layout": "IPY_MODEL_a67756239a174f918ee04509ef8d054d",
            "max": 10,
            "min": 0,
            "orientation": "horizontal",
            "readout": true,
            "readout_format": "d",
            "step": 1,
            "style": "IPY_MODEL_72c4c44ab817470c9322b6f44ec3170a",
            "value": 0
          }
        },
        "a67756239a174f918ee04509ef8d054d": {
          "model_module": "@jupyter-widgets/base",
          "model_name": "LayoutModel",
          "model_module_version": "1.2.0",
          "state": {
            "_model_module": "@jupyter-widgets/base",
            "_model_module_version": "1.2.0",
            "_model_name": "LayoutModel",
            "_view_count": null,
            "_view_module": "@jupyter-widgets/base",
            "_view_module_version": "1.2.0",
            "_view_name": "LayoutView",
            "align_content": null,
            "align_items": null,
            "align_self": null,
            "border": null,
            "bottom": null,
            "display": null,
            "flex": null,
            "flex_flow": null,
            "grid_area": null,
            "grid_auto_columns": null,
            "grid_auto_flow": null,
            "grid_auto_rows": null,
            "grid_column": null,
            "grid_gap": null,
            "grid_row": null,
            "grid_template_areas": null,
            "grid_template_columns": null,
            "grid_template_rows": null,
            "height": null,
            "justify_content": null,
            "justify_items": null,
            "left": null,
            "margin": null,
            "max_height": null,
            "max_width": null,
            "min_height": null,
            "min_width": null,
            "object_fit": null,
            "object_position": null,
            "order": null,
            "overflow": null,
            "overflow_x": null,
            "overflow_y": null,
            "padding": null,
            "right": null,
            "top": null,
            "visibility": null,
            "width": null
          }
        },
        "72c4c44ab817470c9322b6f44ec3170a": {
          "model_module": "@jupyter-widgets/controls",
          "model_name": "SliderStyleModel",
          "model_module_version": "1.5.0",
          "state": {
            "_model_module": "@jupyter-widgets/controls",
            "_model_module_version": "1.5.0",
            "_model_name": "SliderStyleModel",
            "_view_count": null,
            "_view_module": "@jupyter-widgets/base",
            "_view_module_version": "1.2.0",
            "_view_name": "StyleView",
            "description_width": "",
            "handle_color": null
          }
        },
        "3e9d017a6b5b46b48a0ef8fdc0171c75": {
          "model_module": "@jupyter-widgets/controls",
          "model_name": "IntRangeSliderModel",
          "model_module_version": "1.5.0",
          "state": {
            "_dom_classes": [],
            "_model_module": "@jupyter-widgets/controls",
            "_model_module_version": "1.5.0",
            "_model_name": "IntRangeSliderModel",
            "_view_count": null,
            "_view_module": "@jupyter-widgets/controls",
            "_view_module_version": "1.5.0",
            "_view_name": "IntRangeSliderView",
            "continuous_update": true,
            "description": "",
            "description_tooltip": null,
            "disabled": false,
            "layout": "IPY_MODEL_6b1e4bfd614148a4b6faeacbef3274be",
            "max": 10,
            "min": 0,
            "orientation": "horizontal",
            "readout": true,
            "readout_format": "d",
            "step": 1,
            "style": "IPY_MODEL_99191e8bd20640408e9bd88e002cd0a1",
            "value": [
              2,
              7
            ]
          }
        },
        "6b1e4bfd614148a4b6faeacbef3274be": {
          "model_module": "@jupyter-widgets/base",
          "model_name": "LayoutModel",
          "model_module_version": "1.2.0",
          "state": {
            "_model_module": "@jupyter-widgets/base",
            "_model_module_version": "1.2.0",
            "_model_name": "LayoutModel",
            "_view_count": null,
            "_view_module": "@jupyter-widgets/base",
            "_view_module_version": "1.2.0",
            "_view_name": "LayoutView",
            "align_content": null,
            "align_items": null,
            "align_self": null,
            "border": null,
            "bottom": null,
            "display": null,
            "flex": null,
            "flex_flow": null,
            "grid_area": null,
            "grid_auto_columns": null,
            "grid_auto_flow": null,
            "grid_auto_rows": null,
            "grid_column": null,
            "grid_gap": null,
            "grid_row": null,
            "grid_template_areas": null,
            "grid_template_columns": null,
            "grid_template_rows": null,
            "height": null,
            "justify_content": null,
            "justify_items": null,
            "left": null,
            "margin": null,
            "max_height": null,
            "max_width": null,
            "min_height": null,
            "min_width": null,
            "object_fit": null,
            "object_position": null,
            "order": null,
            "overflow": null,
            "overflow_x": null,
            "overflow_y": null,
            "padding": null,
            "right": null,
            "top": null,
            "visibility": null,
            "width": null
          }
        },
        "99191e8bd20640408e9bd88e002cd0a1": {
          "model_module": "@jupyter-widgets/controls",
          "model_name": "SliderStyleModel",
          "model_module_version": "1.5.0",
          "state": {
            "_model_module": "@jupyter-widgets/controls",
            "_model_module_version": "1.5.0",
            "_model_name": "SliderStyleModel",
            "_view_count": null,
            "_view_module": "@jupyter-widgets/base",
            "_view_module_version": "1.2.0",
            "_view_name": "StyleView",
            "description_width": "",
            "handle_color": null
          }
        },
        "b52e4f18cb6a4de7a7a1f8b57a005015": {
          "model_module": "@jupyter-widgets/controls",
          "model_name": "RadioButtonsModel",
          "model_module_version": "1.5.0",
          "state": {
            "_dom_classes": [],
            "_model_module": "@jupyter-widgets/controls",
            "_model_module_version": "1.5.0",
            "_model_name": "RadioButtonsModel",
            "_options_labels": [
              "Option A",
              "Option B",
              "Option C"
            ],
            "_view_count": null,
            "_view_module": "@jupyter-widgets/controls",
            "_view_module_version": "1.5.0",
            "_view_name": "RadioButtonsView",
            "description": "",
            "description_tooltip": null,
            "disabled": false,
            "index": 0,
            "layout": "IPY_MODEL_cfa52507641c4381b0ff229e19c13365",
            "style": "IPY_MODEL_eb6c0a922ed44331afd42f47ebb6a15d"
          }
        },
        "cfa52507641c4381b0ff229e19c13365": {
          "model_module": "@jupyter-widgets/base",
          "model_name": "LayoutModel",
          "model_module_version": "1.2.0",
          "state": {
            "_model_module": "@jupyter-widgets/base",
            "_model_module_version": "1.2.0",
            "_model_name": "LayoutModel",
            "_view_count": null,
            "_view_module": "@jupyter-widgets/base",
            "_view_module_version": "1.2.0",
            "_view_name": "LayoutView",
            "align_content": null,
            "align_items": null,
            "align_self": null,
            "border": null,
            "bottom": null,
            "display": null,
            "flex": null,
            "flex_flow": null,
            "grid_area": null,
            "grid_auto_columns": null,
            "grid_auto_flow": null,
            "grid_auto_rows": null,
            "grid_column": null,
            "grid_gap": null,
            "grid_row": null,
            "grid_template_areas": null,
            "grid_template_columns": null,
            "grid_template_rows": null,
            "height": null,
            "justify_content": null,
            "justify_items": null,
            "left": null,
            "margin": null,
            "max_height": null,
            "max_width": null,
            "min_height": null,
            "min_width": null,
            "object_fit": null,
            "object_position": null,
            "order": null,
            "overflow": null,
            "overflow_x": null,
            "overflow_y": null,
            "padding": null,
            "right": null,
            "top": null,
            "visibility": null,
            "width": null
          }
        },
        "eb6c0a922ed44331afd42f47ebb6a15d": {
          "model_module": "@jupyter-widgets/controls",
          "model_name": "DescriptionStyleModel",
          "model_module_version": "1.5.0",
          "state": {
            "_model_module": "@jupyter-widgets/controls",
            "_model_module_version": "1.5.0",
            "_model_name": "DescriptionStyleModel",
            "_view_count": null,
            "_view_module": "@jupyter-widgets/base",
            "_view_module_version": "1.2.0",
            "_view_name": "StyleView",
            "description_width": ""
          }
        },
        "8916c0b3694f452f9c433a43d867e272": {
          "model_module": "@jupyter-widgets/controls",
          "model_name": "HBoxModel",
          "model_module_version": "1.5.0",
          "state": {
            "_dom_classes": [],
            "_model_module": "@jupyter-widgets/controls",
            "_model_module_version": "1.5.0",
            "_model_name": "HBoxModel",
            "_view_count": null,
            "_view_module": "@jupyter-widgets/controls",
            "_view_module_version": "1.5.0",
            "_view_name": "HBoxView",
            "box_style": "",
            "children": [
              "IPY_MODEL_81a53db2bfde4625a92197a47fa4b658",
              "IPY_MODEL_69c3d5678f884f9ea708d7f1181dd423",
              "IPY_MODEL_2402fcdbf3ca4e9092f6db85c27617f3",
              "IPY_MODEL_ada52d3318714cdc9369d8fa9a66e571"
            ],
            "layout": "IPY_MODEL_ee08055ee4c2412483db858667d9fd98"
          }
        },
        "81a53db2bfde4625a92197a47fa4b658": {
          "model_module": "@jupyter-widgets/controls",
          "model_name": "LabelModel",
          "model_module_version": "1.5.0",
          "state": {
            "_dom_classes": [],
            "_model_module": "@jupyter-widgets/controls",
            "_model_module_version": "1.5.0",
            "_model_name": "LabelModel",
            "_view_count": null,
            "_view_module": "@jupyter-widgets/controls",
            "_view_module_version": "1.5.0",
            "_view_name": "LabelView",
            "description": "",
            "description_tooltip": null,
            "layout": "IPY_MODEL_bdf49c5664b7454ab45864ef54caa880",
            "placeholder": "​",
            "style": "IPY_MODEL_fc2f9ffb1ec84f08ae39a3ff7a8f7216",
            "value": "param4"
          }
        },
        "69c3d5678f884f9ea708d7f1181dd423": {
          "model_module": "@jupyter-widgets/controls",
          "model_name": "CheckboxModel",
          "model_module_version": "1.5.0",
          "state": {
            "_dom_classes": [],
            "_model_module": "@jupyter-widgets/controls",
            "_model_module_version": "1.5.0",
            "_model_name": "CheckboxModel",
            "_view_count": null,
            "_view_module": "@jupyter-widgets/controls",
            "_view_module_version": "1.5.0",
            "_view_name": "CheckboxView",
            "description": "Option 1",
            "description_tooltip": null,
            "disabled": false,
            "indent": true,
            "layout": "IPY_MODEL_379702a3a9ad47faa743f3e393e09507",
            "style": "IPY_MODEL_d8b0deef38cc4c62921d5711de111255",
            "value": false
          }
        },
        "2402fcdbf3ca4e9092f6db85c27617f3": {
          "model_module": "@jupyter-widgets/controls",
          "model_name": "CheckboxModel",
          "model_module_version": "1.5.0",
          "state": {
            "_dom_classes": [],
            "_model_module": "@jupyter-widgets/controls",
            "_model_module_version": "1.5.0",
            "_model_name": "CheckboxModel",
            "_view_count": null,
            "_view_module": "@jupyter-widgets/controls",
            "_view_module_version": "1.5.0",
            "_view_name": "CheckboxView",
            "description": "Option 2",
            "description_tooltip": null,
            "disabled": false,
            "indent": true,
            "layout": "IPY_MODEL_3b0bc35290c9460fbd42877294592979",
            "style": "IPY_MODEL_06c37f54702e457ea0cc3cf237ada461",
            "value": false
          }
        },
        "ada52d3318714cdc9369d8fa9a66e571": {
          "model_module": "@jupyter-widgets/controls",
          "model_name": "CheckboxModel",
          "model_module_version": "1.5.0",
          "state": {
            "_dom_classes": [],
            "_model_module": "@jupyter-widgets/controls",
            "_model_module_version": "1.5.0",
            "_model_name": "CheckboxModel",
            "_view_count": null,
            "_view_module": "@jupyter-widgets/controls",
            "_view_module_version": "1.5.0",
            "_view_name": "CheckboxView",
            "description": "Option 3",
            "description_tooltip": null,
            "disabled": false,
            "indent": true,
            "layout": "IPY_MODEL_d7de62f84dee4d9c8b7eed14ab216242",
            "style": "IPY_MODEL_3d5902bad8ad4f32b7959d62d5e61932",
            "value": false
          }
        },
        "ee08055ee4c2412483db858667d9fd98": {
          "model_module": "@jupyter-widgets/base",
          "model_name": "LayoutModel",
          "model_module_version": "1.2.0",
          "state": {
            "_model_module": "@jupyter-widgets/base",
            "_model_module_version": "1.2.0",
            "_model_name": "LayoutModel",
            "_view_count": null,
            "_view_module": "@jupyter-widgets/base",
            "_view_module_version": "1.2.0",
            "_view_name": "LayoutView",
            "align_content": null,
            "align_items": null,
            "align_self": null,
            "border": null,
            "bottom": null,
            "display": null,
            "flex": null,
            "flex_flow": null,
            "grid_area": null,
            "grid_auto_columns": null,
            "grid_auto_flow": null,
            "grid_auto_rows": null,
            "grid_column": null,
            "grid_gap": null,
            "grid_row": null,
            "grid_template_areas": null,
            "grid_template_columns": null,
            "grid_template_rows": null,
            "height": null,
            "justify_content": null,
            "justify_items": null,
            "left": null,
            "margin": null,
            "max_height": null,
            "max_width": null,
            "min_height": null,
            "min_width": null,
            "object_fit": null,
            "object_position": null,
            "order": null,
            "overflow": null,
            "overflow_x": null,
            "overflow_y": null,
            "padding": null,
            "right": null,
            "top": null,
            "visibility": null,
            "width": null
          }
        },
        "bdf49c5664b7454ab45864ef54caa880": {
          "model_module": "@jupyter-widgets/base",
          "model_name": "LayoutModel",
          "model_module_version": "1.2.0",
          "state": {
            "_model_module": "@jupyter-widgets/base",
            "_model_module_version": "1.2.0",
            "_model_name": "LayoutModel",
            "_view_count": null,
            "_view_module": "@jupyter-widgets/base",
            "_view_module_version": "1.2.0",
            "_view_name": "LayoutView",
            "align_content": null,
            "align_items": null,
            "align_self": null,
            "border": null,
            "bottom": null,
            "display": null,
            "flex": null,
            "flex_flow": null,
            "grid_area": null,
            "grid_auto_columns": null,
            "grid_auto_flow": null,
            "grid_auto_rows": null,
            "grid_column": null,
            "grid_gap": null,
            "grid_row": null,
            "grid_template_areas": null,
            "grid_template_columns": null,
            "grid_template_rows": null,
            "height": null,
            "justify_content": null,
            "justify_items": null,
            "left": null,
            "margin": null,
            "max_height": null,
            "max_width": null,
            "min_height": null,
            "min_width": null,
            "object_fit": null,
            "object_position": null,
            "order": null,
            "overflow": null,
            "overflow_x": null,
            "overflow_y": null,
            "padding": null,
            "right": null,
            "top": null,
            "visibility": null,
            "width": null
          }
        },
        "fc2f9ffb1ec84f08ae39a3ff7a8f7216": {
          "model_module": "@jupyter-widgets/controls",
          "model_name": "DescriptionStyleModel",
          "model_module_version": "1.5.0",
          "state": {
            "_model_module": "@jupyter-widgets/controls",
            "_model_module_version": "1.5.0",
            "_model_name": "DescriptionStyleModel",
            "_view_count": null,
            "_view_module": "@jupyter-widgets/base",
            "_view_module_version": "1.2.0",
            "_view_name": "StyleView",
            "description_width": ""
          }
        },
        "379702a3a9ad47faa743f3e393e09507": {
          "model_module": "@jupyter-widgets/base",
          "model_name": "LayoutModel",
          "model_module_version": "1.2.0",
          "state": {
            "_model_module": "@jupyter-widgets/base",
            "_model_module_version": "1.2.0",
            "_model_name": "LayoutModel",
            "_view_count": null,
            "_view_module": "@jupyter-widgets/base",
            "_view_module_version": "1.2.0",
            "_view_name": "LayoutView",
            "align_content": null,
            "align_items": null,
            "align_self": null,
            "border": null,
            "bottom": null,
            "display": null,
            "flex": null,
            "flex_flow": null,
            "grid_area": null,
            "grid_auto_columns": null,
            "grid_auto_flow": null,
            "grid_auto_rows": null,
            "grid_column": null,
            "grid_gap": null,
            "grid_row": null,
            "grid_template_areas": null,
            "grid_template_columns": null,
            "grid_template_rows": null,
            "height": null,
            "justify_content": null,
            "justify_items": null,
            "left": null,
            "margin": null,
            "max_height": null,
            "max_width": null,
            "min_height": null,
            "min_width": null,
            "object_fit": null,
            "object_position": null,
            "order": null,
            "overflow": null,
            "overflow_x": null,
            "overflow_y": null,
            "padding": null,
            "right": null,
            "top": null,
            "visibility": null,
            "width": null
          }
        },
        "d8b0deef38cc4c62921d5711de111255": {
          "model_module": "@jupyter-widgets/controls",
          "model_name": "DescriptionStyleModel",
          "model_module_version": "1.5.0",
          "state": {
            "_model_module": "@jupyter-widgets/controls",
            "_model_module_version": "1.5.0",
            "_model_name": "DescriptionStyleModel",
            "_view_count": null,
            "_view_module": "@jupyter-widgets/base",
            "_view_module_version": "1.2.0",
            "_view_name": "StyleView",
            "description_width": ""
          }
        },
        "3b0bc35290c9460fbd42877294592979": {
          "model_module": "@jupyter-widgets/base",
          "model_name": "LayoutModel",
          "model_module_version": "1.2.0",
          "state": {
            "_model_module": "@jupyter-widgets/base",
            "_model_module_version": "1.2.0",
            "_model_name": "LayoutModel",
            "_view_count": null,
            "_view_module": "@jupyter-widgets/base",
            "_view_module_version": "1.2.0",
            "_view_name": "LayoutView",
            "align_content": null,
            "align_items": null,
            "align_self": null,
            "border": null,
            "bottom": null,
            "display": null,
            "flex": null,
            "flex_flow": null,
            "grid_area": null,
            "grid_auto_columns": null,
            "grid_auto_flow": null,
            "grid_auto_rows": null,
            "grid_column": null,
            "grid_gap": null,
            "grid_row": null,
            "grid_template_areas": null,
            "grid_template_columns": null,
            "grid_template_rows": null,
            "height": null,
            "justify_content": null,
            "justify_items": null,
            "left": null,
            "margin": null,
            "max_height": null,
            "max_width": null,
            "min_height": null,
            "min_width": null,
            "object_fit": null,
            "object_position": null,
            "order": null,
            "overflow": null,
            "overflow_x": null,
            "overflow_y": null,
            "padding": null,
            "right": null,
            "top": null,
            "visibility": null,
            "width": null
          }
        },
        "06c37f54702e457ea0cc3cf237ada461": {
          "model_module": "@jupyter-widgets/controls",
          "model_name": "DescriptionStyleModel",
          "model_module_version": "1.5.0",
          "state": {
            "_model_module": "@jupyter-widgets/controls",
            "_model_module_version": "1.5.0",
            "_model_name": "DescriptionStyleModel",
            "_view_count": null,
            "_view_module": "@jupyter-widgets/base",
            "_view_module_version": "1.2.0",
            "_view_name": "StyleView",
            "description_width": ""
          }
        },
        "d7de62f84dee4d9c8b7eed14ab216242": {
          "model_module": "@jupyter-widgets/base",
          "model_name": "LayoutModel",
          "model_module_version": "1.2.0",
          "state": {
            "_model_module": "@jupyter-widgets/base",
            "_model_module_version": "1.2.0",
            "_model_name": "LayoutModel",
            "_view_count": null,
            "_view_module": "@jupyter-widgets/base",
            "_view_module_version": "1.2.0",
            "_view_name": "LayoutView",
            "align_content": null,
            "align_items": null,
            "align_self": null,
            "border": null,
            "bottom": null,
            "display": null,
            "flex": null,
            "flex_flow": null,
            "grid_area": null,
            "grid_auto_columns": null,
            "grid_auto_flow": null,
            "grid_auto_rows": null,
            "grid_column": null,
            "grid_gap": null,
            "grid_row": null,
            "grid_template_areas": null,
            "grid_template_columns": null,
            "grid_template_rows": null,
            "height": null,
            "justify_content": null,
            "justify_items": null,
            "left": null,
            "margin": null,
            "max_height": null,
            "max_width": null,
            "min_height": null,
            "min_width": null,
            "object_fit": null,
            "object_position": null,
            "order": null,
            "overflow": null,
            "overflow_x": null,
            "overflow_y": null,
            "padding": null,
            "right": null,
            "top": null,
            "visibility": null,
            "width": null
          }
        },
        "3d5902bad8ad4f32b7959d62d5e61932": {
          "model_module": "@jupyter-widgets/controls",
          "model_name": "DescriptionStyleModel",
          "model_module_version": "1.5.0",
          "state": {
            "_model_module": "@jupyter-widgets/controls",
            "_model_module_version": "1.5.0",
            "_model_name": "DescriptionStyleModel",
            "_view_count": null,
            "_view_module": "@jupyter-widgets/base",
            "_view_module_version": "1.2.0",
            "_view_name": "StyleView",
            "description_width": ""
          }
        },
        "cbfcaf9daa4b4daa9e57746481d358f8": {
          "model_module": "@jupyter-widgets/controls",
          "model_name": "CheckboxModel",
          "model_module_version": "1.5.0",
          "state": {
            "_dom_classes": [],
            "_model_module": "@jupyter-widgets/controls",
            "_model_module_version": "1.5.0",
            "_model_name": "CheckboxModel",
            "_view_count": null,
            "_view_module": "@jupyter-widgets/controls",
            "_view_module_version": "1.5.0",
            "_view_name": "CheckboxView",
            "description": "param5",
            "description_tooltip": null,
            "disabled": false,
            "indent": true,
            "layout": "IPY_MODEL_c34f82b09b824fa987d40bd52c53ddf0",
            "style": "IPY_MODEL_9667752a17e841af8a0ea988be796354",
            "value": false
          }
        },
        "c34f82b09b824fa987d40bd52c53ddf0": {
          "model_module": "@jupyter-widgets/base",
          "model_name": "LayoutModel",
          "model_module_version": "1.2.0",
          "state": {
            "_model_module": "@jupyter-widgets/base",
            "_model_module_version": "1.2.0",
            "_model_name": "LayoutModel",
            "_view_count": null,
            "_view_module": "@jupyter-widgets/base",
            "_view_module_version": "1.2.0",
            "_view_name": "LayoutView",
            "align_content": null,
            "align_items": null,
            "align_self": null,
            "border": null,
            "bottom": null,
            "display": null,
            "flex": null,
            "flex_flow": null,
            "grid_area": null,
            "grid_auto_columns": null,
            "grid_auto_flow": null,
            "grid_auto_rows": null,
            "grid_column": null,
            "grid_gap": null,
            "grid_row": null,
            "grid_template_areas": null,
            "grid_template_columns": null,
            "grid_template_rows": null,
            "height": null,
            "justify_content": null,
            "justify_items": null,
            "left": null,
            "margin": null,
            "max_height": null,
            "max_width": null,
            "min_height": null,
            "min_width": null,
            "object_fit": null,
            "object_position": null,
            "order": null,
            "overflow": null,
            "overflow_x": null,
            "overflow_y": null,
            "padding": null,
            "right": null,
            "top": null,
            "visibility": null,
            "width": null
          }
        },
        "9667752a17e841af8a0ea988be796354": {
          "model_module": "@jupyter-widgets/controls",
          "model_name": "DescriptionStyleModel",
          "model_module_version": "1.5.0",
          "state": {
            "_model_module": "@jupyter-widgets/controls",
            "_model_module_version": "1.5.0",
            "_model_name": "DescriptionStyleModel",
            "_view_count": null,
            "_view_module": "@jupyter-widgets/base",
            "_view_module_version": "1.2.0",
            "_view_name": "StyleView",
            "description_width": ""
          }
        }
      }
    }
  },
  "nbformat": 4,
  "nbformat_minor": 0
}