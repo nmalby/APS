{
  "cells": [
    {
      "cell_type": "markdown",
      "metadata": {
        "id": "view-in-github",
        "colab_type": "text"
      },
      "source": [
        "<a href=\"https://colab.research.google.com/github/nmalby/APS/blob/main/APS.ipynb\" target=\"_parent\"><img src=\"https://colab.research.google.com/assets/colab-badge.svg\" alt=\"Open In Colab\"/></a>"
      ]
    },
    {
      "cell_type": "markdown",
      "source": [
        "#APS Explorer\n",
        "\n",
        "##Configuration"
      ],
      "metadata": {
        "id": "LczMfTMhNuoQ"
      }
    },
    {
      "cell_type": "code",
      "source": [
        "'''\n",
        "Parameters\n",
        "  Configuration\n",
        "    Shell\n",
        "      Loader    - Belt, 1, 2, 3, 4, 6, 7, 8               - Multiple            CheckBox\n",
        "      Gauge     - 18-500                                  - Single              Field/Slider\n",
        "      Modules\n",
        "        Head    - AP, Heavy, AP, Thump, Chem, Special     - Multiple            Checkbox\n",
        "        Bodies  - Solid, Sabot, Chem                      - N/A\n",
        "        Fuse    - None, Single, Double                    - Single              Radio\n",
        "        Base    - None, BB, Trace                         - Single              Radio\n",
        "        GP                                                - N/A\n",
        "    Barrels     - 1-6                                     - Single              Radio\n",
        "    Evacuator   - Y/N                                     - Single              Radio\n",
        "    Ejector     - Y/N                                     - Single              Radio\n",
        "    Rail        - Y/N                                     - Single              Radio\n",
        "    Max draw    - 1000-20000                              - Single              Field/Slider\n",
        "\n",
        "  Requirements\n",
        "    AP          - 0-60                                    - Single              Field/Slider\n",
        "    Velocity    - 500-2000                                - Multiple (min-max)  Slider\n",
        "    (Pen Req)   -                                         - Single              Field\n",
        "\n",
        "  Goal Weights\n",
        "    KD          - 0-1                                     - Single              Field/Slider\n",
        "    CD          - 0-1                                     - Single              Field/Slider\n",
        "    ROF         - 0-1                                     - Single              Field/Slider\n",
        "    (Uptime)    - 0-1 (Belt)                              - Single              Field/Slider\n",
        "    Volume      - 0-1                                     - Single              Field/Slider\n",
        "    Cost        - 0-1 (Build +10 min)                     - Single              Field/Slider\n",
        "'''"
      ],
      "metadata": {
        "id": "wiW_mwUaN5Ep"
      },
      "execution_count": null,
      "outputs": []
    },
    {
      "cell_type": "code",
      "source": [
        "# Parameters\n",
        "# TODO: Add Form\n",
        "loaderChoices = []\n",
        "gaugeChoice = 0\n",
        "headChoices = []\n",
        "fuseChoice = 0\n",
        "baseChoice = 0\n",
        "railChoice = False\n",
        "railLimit = 0"
      ],
      "metadata": {
        "id": "y7F_f4Huwjgq"
      },
      "execution_count": null,
      "outputs": []
    },
    {
      "cell_type": "code",
      "source": [
        "# Goal Weights\n",
        "# TODO: Add Form\n",
        "KDweight = 0\n",
        "CDweight = 0\n",
        "ROFweight = 0\n",
        "BELTweight = 0\n",
        "VOLUMEweight = 0\n",
        "COSTweight = 0"
      ],
      "metadata": {
        "id": "sLZzCWMWwlAa"
      },
      "execution_count": null,
      "outputs": []
    },
    {
      "cell_type": "code",
      "source": [
        "for loader in loaderChoices:\n",
        "  for head in headChoices:\n",
        "    template = {\n",
        "      \"loader\" : loader,\n",
        "      \"guage\" : gaugeChoice,\n",
        "      \"modules\" : {\n",
        "        \"head\" : head,\n",
        "        \"fuse\" : fuseChoice,\n",
        "        \"base\" : baseChoice,\n",
        "      }\n",
        "    }\n",
        "    if railChoice:\n",
        "      template[\"railMax\"] = railLimit\n",
        "    else:\n",
        "      template[\"railMax\"] = 0\n",
        "    \n",
        "    # TODO: create shell object\n",
        "    #       run goal function"
      ],
      "metadata": {
        "id": "NfgUli3uesBH"
      },
      "execution_count": null,
      "outputs": []
    },
    {
      "cell_type": "code",
      "source": [
        "firstPassKeys = {\n",
        "    \"keys\" : {\"GP\", \"Solid\", \"Sabot\"}\n",
        "}\n",
        "\n",
        "if CDweight > 0:\n",
        "  firstPassKeys[\"keys\"].add(\"Chem\")\n",
        "if railChoice:\n",
        "  firstPassKeys[\"keys\"].add(\"RailDraw\")"
      ],
      "metadata": {
        "id": "5dLI2yLNv-v6"
      },
      "execution_count": null,
      "outputs": []
    },
    {
      "cell_type": "code",
      "source": [
        "class Shell:\n",
        "  def __init__(self, template):\n",
        "    self.loader = template[\"loader\"]\n",
        "    self.guage = template[\"guage\"]\n",
        "    self.head = template[\"modules\"][\"head\"]\n",
        "    self.fuse = template[\"modules\"][\"fuse\"]\n",
        "    self.base = template[\"modules\"][\"base\"]\n",
        "    self.loader = template[\"loader\"]"
      ],
      "metadata": {
        "id": "62Y-MBdUv5ca"
      },
      "execution_count": null,
      "outputs": []
    }
  ],
  "metadata": {
    "kernelspec": {
      "display_name": "Python 3 (ipykernel)",
      "language": "python",
      "name": "python3"
    },
    "language_info": {
      "codemirror_mode": {
        "name": "ipython",
        "version": 3
      },
      "file_extension": ".py",
      "mimetype": "text/x-python",
      "name": "python",
      "nbconvert_exporter": "python",
      "pygments_lexer": "ipython3",
      "version": "3.9.12"
    },
    "colab": {
      "provenance": [],
      "include_colab_link": true
    }
  },
  "nbformat": 4,
  "nbformat_minor": 0
}