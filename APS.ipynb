{
  "cells": [
    {
      "cell_type": "markdown",
      "metadata": {
        "id": "view-in-github",
        "colab_type": "text"
      },
      "source": [
        "<a href=\"https://colab.research.google.com/github/nmalby/APS/blob/main/APS.ipynb\" target=\"_parent\"><img src=\"https://colab.research.google.com/assets/colab-badge.svg\" alt=\"Open In Colab\"/></a>"
      ]
    },
    {
      "cell_type": "markdown",
      "source": [
        "#APS Explorer"
      ],
      "metadata": {
        "id": "LczMfTMhNuoQ"
      }
    },
    {
      "cell_type": "markdown",
      "source": [
        "##Configuration"
      ],
      "metadata": {
        "id": "B8UmoMT3qOiY"
      }
    },
    {
      "cell_type": "markdown",
      "source": [
        "#####Template"
      ],
      "metadata": {
        "id": "duSI-ZGDsRhf"
      }
    },
    {
      "cell_type": "code",
      "source": [
        "'''\n",
        "Parameters\n",
        "  Configuration\n",
        "    Shell\n",
        "      Loader      - Belt, 1, 2, 3, 4, 6, 7, 8             - Multiple            CheckBox\n",
        "      Modules\n",
        "        Head      - AP, Heavy, AP, Thump, Chem, Special   - Multiple            Checkbox\n",
        "        Fuse      - None, Single, Double                  - Single              Radio\n",
        "        Base      - None, BB, Trace                       - Single              Radio\n",
        "    Gun\n",
        "      Gauge       - 18-500                                - Single              Field/Slider\n",
        "      Barrels     - 1-6                                   - Single              Radio\n",
        "      Evacuator   - Y/N                                   - Single              Radio\n",
        "      Ejector     - Y/N                                   - Single              Radio\n",
        "      Rail        - Y/N                                   - Single              Radio\n",
        "      Rail Limit  - 1000-20000                            - Single              Field/Slider\n",
        "  \n",
        "    Engine\n",
        "      PPM         - 200-800                               - Single              Field/Slider\n",
        "      PPV         - 10-200                                - Single              Field/Slider\n",
        "      PPB         - 10-200                                - Single              Field/Slider\n",
        "\n",
        "  Requirements\n",
        "    AP            - 0-60                                  - Single              Field/Slider\n",
        "    Velocity      - 500-2000                              - Multiple (min-max)  Slider\n",
        "    (Pen Req)     -                                       - Single              Field\n",
        "\n",
        "  Goal Weights\n",
        "    KD            - 0-1                                   - Single              Field/Slider\n",
        "    CD            - 0-1                                   - Single              Field/Slider\n",
        "    ROF           - 0-1                                   - Single              Field/Slider\n",
        "    (Uptime)      - 0-1 (Belt)                            - Single              Field/Slider\n",
        "    Volume        - 0-1                                   - Single              Field/Slider\n",
        "    Cost          - 0-1 (Build +10 min)                   - Single              Field/Slider\n",
        "'''"
      ],
      "metadata": {
        "id": "wiW_mwUaN5Ep"
      },
      "execution_count": null,
      "outputs": []
    },
    {
      "cell_type": "markdown",
      "source": [
        "###Shell"
      ],
      "metadata": {
        "id": "41JVknAEqTaX"
      }
    },
    {
      "cell_type": "code",
      "source": [
        "# Parameters\n",
        "# TODO: Add Form\n",
        "\n",
        "# loaderChoices = []\n",
        "# headChoices = []\n",
        "# fuseChoice = 0\n",
        "# baseChoice = 0\n",
        "\n",
        "# loaderLengths = [\"Belt\", 1, 2, 3, 4, 6, 8]\n",
        "\n",
        "shellParams = {\n",
        "  'loaderChoices' : {\n",
        "    'type': 'MultipleChoice',\n",
        "    'options': [\"Belt\", 1, 2, 3, 4, 6, 8],\n",
        "    'value': [4],\n",
        "    'description': 'Loader lengths',\n",
        "    'disabled': False\n",
        "  },\n",
        "  'headChoices' : {\n",
        "    'type': 'MultipleChoice',\n",
        "    'options': headData.keys(),\n",
        "    'value': ['AP'],\n",
        "    'description': 'Heads'\n",
        "  },\n",
        "  'fuseCount': {\n",
        "    'type': 'IntSlider',\n",
        "    'min': 0,\n",
        "    'max': 5,\n",
        "    'step': 1,\n",
        "    'value': 0,\n",
        "    'description': 'Fuses'\n",
        "  },\n",
        "  'baseChoices' : {\n",
        "    'type': 'MultipleChoice',\n",
        "    'options': baseData.keys(),\n",
        "    'value': [],\n",
        "    'description': 'Bases'\n",
        "  }\n",
        "}\n",
        "\n",
        "initWidgets(shellParams)"
      ],
      "metadata": {
        "id": "y7F_f4Huwjgq",
        "outputId": "22c2a3de-ca88-48d4-f918-ac0826f1f05e",
        "colab": {
          "base_uri": "https://localhost:8080/",
          "height": 338
        }
      },
      "execution_count": 24,
      "outputs": [
        {
          "output_type": "error",
          "ename": "AttributeError",
          "evalue": "ignored",
          "traceback": [
            "\u001b[0;31m---------------------------------------------------------------------------\u001b[0m",
            "\u001b[0;31mAttributeError\u001b[0m                            Traceback (most recent call last)",
            "\u001b[0;32m<ipython-input-24-7032caebfffd>\u001b[0m in \u001b[0;36m<cell line: 41>\u001b[0;34m()\u001b[0m\n\u001b[1;32m     39\u001b[0m }\n\u001b[1;32m     40\u001b[0m \u001b[0;34m\u001b[0m\u001b[0m\n\u001b[0;32m---> 41\u001b[0;31m \u001b[0minitWidgets\u001b[0m\u001b[0;34m(\u001b[0m\u001b[0mshellParams\u001b[0m\u001b[0;34m)\u001b[0m\u001b[0;34m\u001b[0m\u001b[0;34m\u001b[0m\u001b[0m\n\u001b[0m",
            "\u001b[0;32m<ipython-input-19-1a333915e6ce>\u001b[0m in \u001b[0;36minitWidgets\u001b[0;34m(params_config)\u001b[0m\n\u001b[1;32m     46\u001b[0m     \u001b[0;32melif\u001b[0m \u001b[0mparam_type\u001b[0m \u001b[0;34m==\u001b[0m \u001b[0;34m'MultipleChoice'\u001b[0m\u001b[0;34m:\u001b[0m\u001b[0;34m\u001b[0m\u001b[0;34m\u001b[0m\u001b[0m\n\u001b[1;32m     47\u001b[0m       \u001b[0mhbox\u001b[0m \u001b[0;34m=\u001b[0m \u001b[0mwidgets\u001b[0m\u001b[0;34m.\u001b[0m\u001b[0mHBox\u001b[0m\u001b[0;34m(\u001b[0m\u001b[0;34m[\u001b[0m\u001b[0mwidgets\u001b[0m\u001b[0;34m.\u001b[0m\u001b[0mLabel\u001b[0m\u001b[0;34m(\u001b[0m\u001b[0mparam\u001b[0m\u001b[0;34m)\u001b[0m\u001b[0;34m]\u001b[0m\u001b[0;34m)\u001b[0m\u001b[0;34m\u001b[0m\u001b[0;34m\u001b[0m\u001b[0m\n\u001b[0;32m---> 48\u001b[0;31m       \u001b[0;32mfor\u001b[0m \u001b[0moption\u001b[0m\u001b[0;34m,\u001b[0m \u001b[0mvalue\u001b[0m \u001b[0;32min\u001b[0m \u001b[0mconfig\u001b[0m\u001b[0;34m[\u001b[0m\u001b[0;34m'options'\u001b[0m\u001b[0;34m]\u001b[0m\u001b[0;34m.\u001b[0m\u001b[0mitems\u001b[0m\u001b[0;34m(\u001b[0m\u001b[0;34m)\u001b[0m\u001b[0;34m:\u001b[0m\u001b[0;34m\u001b[0m\u001b[0;34m\u001b[0m\u001b[0m\n\u001b[0m\u001b[1;32m     49\u001b[0m         \u001b[0mcheckbox\u001b[0m \u001b[0;34m=\u001b[0m \u001b[0mwidgets\u001b[0m\u001b[0;34m.\u001b[0m\u001b[0mCheckbox\u001b[0m\u001b[0;34m(\u001b[0m\u001b[0mdescription\u001b[0m\u001b[0;34m=\u001b[0m\u001b[0moption\u001b[0m\u001b[0;34m)\u001b[0m\u001b[0;34m\u001b[0m\u001b[0;34m\u001b[0m\u001b[0m\n\u001b[1;32m     50\u001b[0m         \u001b[0mcheckbox\u001b[0m\u001b[0;34m.\u001b[0m\u001b[0mmetadata\u001b[0m \u001b[0;34m=\u001b[0m \u001b[0;34m{\u001b[0m\u001b[0;34m'value'\u001b[0m\u001b[0;34m:\u001b[0m \u001b[0mvalue\u001b[0m\u001b[0;34m}\u001b[0m\u001b[0;34m\u001b[0m\u001b[0;34m\u001b[0m\u001b[0m\n",
            "\u001b[0;31mAttributeError\u001b[0m: 'tuple' object has no attribute 'items'"
          ]
        }
      ]
    },
    {
      "cell_type": "markdown",
      "source": [
        "###Gun"
      ],
      "metadata": {
        "id": "5zEuOHu8qjsQ"
      }
    },
    {
      "cell_type": "code",
      "source": [
        "# gaugeChoice = 0\n",
        "\n",
        "# evacChoice = True\n",
        "# ejecChoice = True\n",
        "\n",
        "# barrels = 1\n",
        "# clipsPerLoader = 1\n",
        "\n",
        "# railChoice = True\n",
        "# railLimit = 5000\n",
        "\n",
        "gunParams = {\n",
        "  'gaugeChoice': {\n",
        "    'type': 'BoundedIntText_IntSlider',\n",
        "    'min': 18,\n",
        "    'max': 500,\n",
        "    'step': 1,\n",
        "    'value': 250,\n",
        "    'description': 'Gauge'\n",
        "  },\n",
        "  'evacChoice': {\n",
        "    'type': 'Checkbox',\n",
        "    'description': 'Evacuators'\n",
        "  },\n",
        "  'ejecChoice': {\n",
        "    'type': 'Checkbox',\n",
        "    'description': 'Ejectors'\n",
        "  },\n",
        "  'barrelsChoice': {\n",
        "    'type': 'BoundedIntText_IntSlider',\n",
        "    'min': 1,\n",
        "    'max': 6,\n",
        "    'step': 1,\n",
        "    'value': 1,\n",
        "    'description': 'Barrels'\n",
        "  },\n",
        "  'clipsPerLoader': {\n",
        "    'type': 'BoundedIntText_IntSlider',\n",
        "    'min': 1,\n",
        "    'max': 6,\n",
        "    'step': 1,\n",
        "    'value': 1,\n",
        "    'description': 'Clips per loader'\n",
        "  },\n",
        "  'railChoice': {\n",
        "    'type': 'Checkbox',\n",
        "    'description': 'Railgun'\n",
        "  },\n",
        "  'railLimit': {\n",
        "    'type': 'BoundedIntText_IntSlider',\n",
        "    'min': 1000,\n",
        "    'max': 20000,\n",
        "    'step': 5000,\n",
        "    'value': 1000,\n",
        "    'description': 'Rail draw limit'\n",
        "  }\n",
        "}\n",
        "\n"
      ],
      "metadata": {
        "id": "fjbGrfzuqkfI"
      },
      "execution_count": 13,
      "outputs": []
    },
    {
      "cell_type": "code",
      "source": [
        "import ipywidgets as widgets\n",
        "from IPython.display import display\n",
        "import datetime\n",
        "\n",
        "# Sample dictionary to load options for the multiple-choice checkbox\n",
        "options_dict = {'Option 1': 1, 'Option 2': 2, 'Option 3': 3}\n",
        "\n",
        "# Dictionary to store parameters and their respective widget configurations\n",
        "params_config = {\n",
        "  'param1': {'type': 'BoundedIntText_IntSlider', 'min': 0, 'max': 10, 'step': 1},\n",
        "  'param2': {'type': 'IntRangeSlider', 'min': 0, 'max': 10, 'step': 1},\n",
        "  'param3': {'type': 'RadioButtons', 'options': ['Option A', 'Option B', 'Option C']},\n",
        "  'param4': {'type': 'MultipleChoice', 'options': options_dict},\n",
        "  'param5': {'type': 'Checkbox'}\n",
        "}\n",
        "\n",
        "initWidgets(params_config)\n",
        "\n",
        "# Function to act as an event handler\n",
        "def paramsChanged(change):\n",
        "  return datetime.datetime.now()\n",
        "\n",
        "# Iterate through the dictionary\n",
        "def initWidgets(params_config):\n",
        "  for param, config in params_config.items():\n",
        "    param_type = config['type']\n",
        "    \n",
        "    if param_type == 'BoundedIntText_IntSlider':\n",
        "      int_text = widgets.BoundedIntText(description=param, min=config['min'], max=config['max'], step=config['step'])\n",
        "      int_slider = widgets.IntSlider(min=config['min'], max=config['max'], step=config['step'])\n",
        "      \n",
        "      widgets.jslink((int_text, 'value'), (int_slider, 'value'))\n",
        "      \n",
        "      int_text.observe(paramsChanged, names='value')\n",
        "      int_slider.observe(paramsChanged, names='value')\n",
        "      \n",
        "      display(int_text, int_slider)\n",
        "\n",
        "    elif param_type == 'IntRangeSlider':\n",
        "      int_range_slider = widgets.IntRangeSlider(min=config['min'], max=config['max'], step=config['step'])\n",
        "      \n",
        "      int_range_slider.observe(paramsChanged, names='value')\n",
        "      \n",
        "      display(int_range_slider)\n",
        "\n",
        "    elif param_type == 'MultipleChoice':\n",
        "      hbox = widgets.HBox([widgets.Label(param)])\n",
        "      for option, value in config['options'].items():\n",
        "        checkbox = widgets.Checkbox(description=option)\n",
        "        checkbox.metadata = {'value': value}\n",
        "        checkbox.observe(paramsChanged, names='value')\n",
        "        hbox.children += (checkbox,)\n",
        "\n",
        "      display(hbox)\n",
        "    elif param_type == 'RadioButtons':\n",
        "      radio_buttons = widgets.RadioButtons(description=param, options=config['options'])\n",
        "      \n",
        "      radio_buttons.observe(paramsChanged, names='value')\n",
        "      \n",
        "      display(radio_buttons)\n",
        "    elif param_type == 'Checkbox':\n",
        "      checkbox = widgets.Checkbox(description=param)\n",
        "      checkbox.observe(paramsChanged, names='value')\n",
        "      display(checkbox)"
      ],
      "metadata": {
        "id": "Ms5724zXRykH",
        "outputId": "98a30404-aa96-477f-c0f4-e416bcaae7f0",
        "colab": {
          "base_uri": "https://localhost:8080/",
          "height": 267,
          "referenced_widgets": [
            "f1ffddc75d8440cd85910d2054fdff1f",
            "7245d679f8964a53b5edd82dc7d8a40c",
            "9c742fde245d46d4afd1e1bd9b417158",
            "1ca880d6ec7246b4ae0d581f0fa16428",
            "420e017211f84c6ea180d3d21ccd6a32",
            "20ee4d875f454d9c91295372a533f529",
            "de1ffa5c295b4902bad97d7ac559b98e",
            "2d943d8869d94b2b92128e48fdc86026",
            "58c64a43c4d24ebd8a03ce7aa94ca106",
            "cb3036473f524333a3e3ac630057d649",
            "9def5cccb8794f93b5453c5a5369c329",
            "a79ba565d2bc4eecb0e6cd7d52a69e86",
            "a024a70e296648709d69cdb6793e85c2",
            "63a01f75fe8b4355b674d68d4ab7854f",
            "31640a8f63394527b26d139cb58fbcfe",
            "4d8beb9661a342ec9f53fd85833d6aa9",
            "02d22a471d3a496c8053f7c8babdb40a",
            "210106be024846c584ade5b419bf4da8",
            "fcfef40bd73b461eb567dd58a54c3706",
            "66b28ef0d37e48eeb7c60144c6035b56",
            "6352e34659014b0dbd4ec331153b5fd1",
            "2318069f3ee74647bcea3c30c943ec27",
            "970deac283fd4a188cbf9ff34fcc08b0",
            "afa4e76efd3745549daca677f02c4992",
            "6c7de0f61b3b4c6e98de9ec9278d65c6",
            "398ba2af3400422291f1d8867a188fc8",
            "b4246243c8df4e8aabad520862e7b8bb",
            "ebfbbf107e2945e49a1a8d9e6d652e48",
            "e6b87531231d41debb42a1c2886af8c6"
          ]
        }
      },
      "execution_count": 19,
      "outputs": [
        {
          "output_type": "display_data",
          "data": {
            "text/plain": [
              "BoundedIntText(value=0, description='param1', max=10)"
            ],
            "application/vnd.jupyter.widget-view+json": {
              "version_major": 2,
              "version_minor": 0,
              "model_id": "f1ffddc75d8440cd85910d2054fdff1f"
            }
          },
          "metadata": {}
        },
        {
          "output_type": "display_data",
          "data": {
            "text/plain": [
              "IntSlider(value=0, max=10)"
            ],
            "application/vnd.jupyter.widget-view+json": {
              "version_major": 2,
              "version_minor": 0,
              "model_id": "1ca880d6ec7246b4ae0d581f0fa16428"
            }
          },
          "metadata": {}
        },
        {
          "output_type": "display_data",
          "data": {
            "text/plain": [
              "IntRangeSlider(value=(2, 7), max=10)"
            ],
            "application/vnd.jupyter.widget-view+json": {
              "version_major": 2,
              "version_minor": 0,
              "model_id": "de1ffa5c295b4902bad97d7ac559b98e"
            }
          },
          "metadata": {}
        },
        {
          "output_type": "display_data",
          "data": {
            "text/plain": [
              "RadioButtons(description='param3', options=('Option A', 'Option B', 'Option C'), value='Option A')"
            ],
            "application/vnd.jupyter.widget-view+json": {
              "version_major": 2,
              "version_minor": 0,
              "model_id": "cb3036473f524333a3e3ac630057d649"
            }
          },
          "metadata": {}
        },
        {
          "output_type": "display_data",
          "data": {
            "text/plain": [
              "HBox(children=(Label(value='param4'), Checkbox(value=False, description='Option 1'), Checkbox(value=False, des…"
            ],
            "application/vnd.jupyter.widget-view+json": {
              "version_major": 2,
              "version_minor": 0,
              "model_id": "a024a70e296648709d69cdb6793e85c2"
            }
          },
          "metadata": {}
        },
        {
          "output_type": "display_data",
          "data": {
            "text/plain": [
              "Checkbox(value=False, description='param5')"
            ],
            "application/vnd.jupyter.widget-view+json": {
              "version_major": 2,
              "version_minor": 0,
              "model_id": "b4246243c8df4e8aabad520862e7b8bb"
            }
          },
          "metadata": {}
        }
      ]
    },
    {
      "cell_type": "markdown",
      "source": [
        "###Engine"
      ],
      "metadata": {
        "id": "AJ1mdHXkrDZA"
      }
    },
    {
      "cell_type": "code",
      "source": [
        "PPM = 500\n",
        "PPV = 40\n",
        "\n",
        "PPB = 0"
      ],
      "metadata": {
        "id": "ty18S25erFHv"
      },
      "execution_count": null,
      "outputs": []
    },
    {
      "cell_type": "markdown",
      "source": [
        "###Goal"
      ],
      "metadata": {
        "id": "N1PdTwW9qhNA"
      }
    },
    {
      "cell_type": "code",
      "source": [
        "# Goal Weights\n",
        "# TODO: Add Form\n",
        "KDWeight = 1\n",
        "CDWeight = 0\n",
        "ROFWeight = .5\n",
        "BeltUptimeWeight = 0\n",
        "VolumeWeight = .5\n",
        "CostWeight = .5"
      ],
      "metadata": {
        "id": "sLZzCWMWwlAa"
      },
      "execution_count": null,
      "outputs": []
    },
    {
      "cell_type": "markdown",
      "source": [
        "##Implementation"
      ],
      "metadata": {
        "id": "DR2zVYArvHoX"
      }
    },
    {
      "cell_type": "code",
      "source": [
        "paramsChanged ="
      ],
      "metadata": {
        "id": "5_EipDdev6Ln"
      },
      "execution_count": null,
      "outputs": []
    },
    {
      "cell_type": "code",
      "source": [
        "for loader in loaderChoices:\n",
        "  for head in headChoices:\n",
        "    template = {\n",
        "      \"loader\" : loader,\n",
        "      \"guage\" : gaugeChoice,\n",
        "      \"head\" : head,\n",
        "    \n",
        "    }\n",
        "    \n",
        "    # TODO: create shell object\n",
        "    #       run goal function"
      ],
      "metadata": {
        "id": "NfgUli3uesBH"
      },
      "execution_count": null,
      "outputs": []
    },
    {
      "cell_type": "markdown",
      "source": [
        "###APS Formulas"
      ],
      "metadata": {
        "id": "7G8cqJrGvPTP"
      }
    },
    {
      "cell_type": "code",
      "source": [
        "class Shell:\n",
        "  def __init__(self, template):\n",
        "    self.gauge = template['gauge']\n",
        "    self.loader = template['loader']\n",
        "    self.head = template['head']\n",
        "    self.body = template['body']\n",
        "    self.fuse = template['fuse']\n",
        "    self.base = template[\"base\"]\n",
        "    self.gp = template['gp']\n",
        "    self.rc = template['rc']\n",
        "    self.railCoef = template['railCoef'] if template['railCoef'] else 0\n",
        "    self.railLimit = template['railLimit']      # user restriction\n",
        "\n",
        "    self.gaugeCoefficient = (self.gauge**3 / 125000000.0) ** 0.6\n",
        "\n",
        "\n",
        "  def loaderLength(self):\n",
        "    return self.loader * 1000 if template[\"loader\"] != \"Belt\" else 1000\n",
        "\n",
        "  def headLength(self):\n",
        "    hd = headData[self.head]\n",
        "    return min(self.gauge, hd.maxLength or 500);\n",
        "\n",
        "  def railMax(self):\n",
        "    return min(self.railLimit, self.gaugeCoefficient * (self.effectiveProjectileModuleCount() + 0.5 * (self.rc or 0)))\n",
        "\n",
        "  def railDraw(self):\n",
        "    return 1\n",
        "\n",
        "  def velocity(self):\n",
        "    return 1\n",
        "\n",
        "  def kineticDamage(self):\n",
        "    return 1\n",
        "  \n",
        "  def AP(self):\n",
        "    AP = self.velocity * self.overallArmorPierceModifier() * 0.0175;\n",
        "    return AP\n",
        "  \n",
        "  def effectiveKineticDamage(self):\n",
        "    kd = self.kineticDamage\n",
        "    ap = self.AP\n",
        "    ekd =  kd * ap\n",
        "    return ekd\n",
        "  \n",
        "  def reloadTime(self):\n",
        "    reload  = (self.gauge ** 3 / 125000000)** 0.45 * (2 + self.effectiveProjectileModuleCount() + 0.25 * (self.gp + (self.rc or 0))) * 17.5\n",
        "    \n",
        "    return 0.75 * reload * (self.gauge / 1000) ** 0.45 if self.loader == \"Belt\" else reload\n",
        "\n",
        "  def effectiveProjectileModuleCount(self):\n",
        "    return 1\n",
        "  \n",
        "  def overallArmorPierceModifier(self):\n",
        "    return 1\n",
        "\n",
        "  def loaderVolume(self):\n",
        "    return 1\n",
        "  \n",
        "  def recoilVolume(self):\n",
        "    return 1\n",
        "  \n",
        "  def coolerVolume(self):\n",
        "    return 1\n",
        "  \n",
        "  def chargerVolume(self):\n",
        "    return 1\n",
        "  \n",
        "  def magnetVolume(self):\n",
        "    return 1\n",
        "  \n",
        "  def engineVolume(self):\n",
        "    return (self.maxDraw() * (self.railDraw or 0)) / self.reloadTime() / PPV\n",
        "    \n",
        "  def volumePerIntake(self):\n",
        "    return max(\n",
        "      self.loaderVolume() +\n",
        "      self.recoilVolume() +\n",
        "      self.coolerVolume() +\n",
        "      self.chargerVolume() +\n",
        "      self.magnetVolume() +\n",
        "      self.engineVolume(),\n",
        "      2\n",
        "    )\n",
        "  \n",
        "  def loaderCost(self):\n",
        "    return 1\n",
        "  \n",
        "  def recoilCost(self):\n",
        "    return self.recoilVolume() * costData[\"Recoil\"];\n",
        "  \n",
        "  def coolerCost(self):\n",
        "    return self.coolerVolume() * costData[\"Cooler\"];\n",
        "\n",
        "  def chargerCost(self):\n",
        "    return 1\n",
        "\n",
        "  def magnetCost(self):\n",
        "    return 1\n",
        "\n",
        "  def engineCost(self):\n",
        "    return 1\n",
        "  "
      ],
      "metadata": {
        "id": "62Y-MBdUv5ca"
      },
      "execution_count": null,
      "outputs": []
    },
    {
      "cell_type": "code",
      "source": [
        "def optimizationGoalSimple(shell):\n",
        "  return (shell.KineticDamage()** clampWeight(KDWeight) * shell.ChemDamage()** clampWeight(CDWeight) * shell.Uptime()** clampWeight(BeltUptimeWeight)) / \\\n",
        "          shell.ReloadTime()** clampWeight(ROFWeight) / shell.VolumePerIntake()** clampWeight(VolumeWeight) / shell.CostPerIntake()** clampWeight(CostWeight)"
      ],
      "metadata": {
        "id": "OXYfZEkpwY8N"
      },
      "execution_count": null,
      "outputs": []
    },
    {
      "cell_type": "code",
      "source": [
        "def optimizationGoalDetailed(shell):\n",
        "  return (shell.KineticDamageVsAngled()** clampWeight(KDWeight) * shell.AppliedChemDamage()** clampWeight(CDWeight) * shell.Uptime()** clampWeight(BeltUptimeWeight)) / \\\n",
        "          shell.ReloadTime()** clampWeight(ROFWeight) / shell.VolumePerIntake()** clampWeight(VolumeWeight) / shell.CostPerIntake()** clampWeight(CostWeight)"
      ],
      "metadata": {
        "id": "LesR7xsBqa6t"
      },
      "execution_count": null,
      "outputs": []
    },
    {
      "cell_type": "code",
      "source": [
        "def firstPassKeys():\n",
        "  keys = {\"GP\", \"Solid\", \"Sabot\"}\n",
        "\n",
        "  if CDWeight > 0:\n",
        "    keys.add(\"Chem\")\n",
        "  if railChoice:\n",
        "    keys.add(\"RailDraw\")\n",
        "  \n",
        "  return keys"
      ],
      "metadata": {
        "id": "5dLI2yLNv-v6"
      },
      "execution_count": null,
      "outputs": []
    },
    {
      "cell_type": "code",
      "source": [
        "def clampWeight(num):\n",
        "   return max(min(num, 1), 1e6)"
      ],
      "metadata": {
        "id": "W5IVRPUfv90U"
      },
      "execution_count": null,
      "outputs": []
    },
    {
      "cell_type": "markdown",
      "source": [
        "###Shell Data"
      ],
      "metadata": {
        "id": "4dYwV5g7vUGP"
      }
    },
    {
      "cell_type": "code",
      "source": [
        "loaderLengths = [\"Belt\", 1, 2, 3, 4, 6, 8]\n",
        "\n",
        "headData = {\n",
        "  \"AP\": {\n",
        "    \"VelocityMod\": 1.6,\n",
        "    \"KineticDamageMod\": 1.0,\n",
        "    \"ArmorPierceMod\": 1.65,\n",
        "    \"ChemMod\": 1.0,\n",
        "    \"ShortName\": \"AP\",\n",
        "  },\n",
        "  \"Sabot\": {\n",
        "    \"VelocityMod\": 1.6,\n",
        "    \"KineticDamageMod\": 0.85,\n",
        "    \"ArmorPierceMod\": 2.5,\n",
        "    \"ChemMod\": 0.25,\n",
        "    \"ShortName\": \"Sab\",\n",
        "  },\n",
        "  \"Heavy\": {\n",
        "    \"VelocityMod\": 1.45,\n",
        "    \"KineticDamageMod\": 1.65,\n",
        "    \"ArmorPierceMod\": 1.0,\n",
        "    \"ChemMod\": 1.0,\n",
        "    \"ShortName\": \"Hvy\",\n",
        "  },\n",
        "  \"HP\": {\n",
        "    \"VelocityMod\": 1.45,\n",
        "    \"KineticDamageMod\": 1.2,\n",
        "    \"ArmorPierceMod\": 1.0,\n",
        "    \"ChemMod\": 1.0,\n",
        "    \"ShortName\": \"HP\",\n",
        "  },\n",
        "  \"Chem\": {\n",
        "    \"VelocityMod\": 1.3,\n",
        "    \"KineticDamageMod\": 1.0,\n",
        "    \"ArmorPierceMod\": 0.1,\n",
        "    \"ChemMod\": 1.0,\n",
        "    \"IsChem\": True,\n",
        "    \"ShortName\": \"Chem\",\n",
        "  },\n",
        "  \"Special\": {\n",
        "    \"VelocityMod\": 1.45,\n",
        "    \"KineticDamageMod\": 0.1,\n",
        "    \"ArmorPierceMod\": 0.1,\n",
        "    \"ChemMod\": 1.0,\n",
        "    \"IsChem\": True,\n",
        "    \"ShortName\": \"Spc\",\n",
        "  },\n",
        "}\n",
        "bodyData = {\n",
        "  \"SolidBody\": {\n",
        "    \"VelocityMod\": 1.1,\n",
        "    \"KineticDamageMod\": 1.0,\n",
        "    \"ArmorPierceMod\": 1.0,\n",
        "    \"ChemMod\": 1.0,\n",
        "    \"ShortName\": \"Sol\",\n",
        "  },\n",
        "  \"SabotBody\": {\n",
        "    \"VelocityMod\": 1.1,\n",
        "    \"KineticDamageMod\": 0.8,\n",
        "    \"ArmorPierceMod\": 1.4,\n",
        "    \"ChemMod\": 0.25,\n",
        "    \"ShortName\": \"Sab\",\n",
        "  },\n",
        "  \"ChemBody\": {\n",
        "    \"VelocityMod\": 1.0,\n",
        "    \"KineticDamageMod\": 1.0,\n",
        "    \"ArmorPierceMod\": 0.1,\n",
        "    \"ChemMod\": 1.0,\n",
        "    \"ShortName\": \"Chem\",\n",
        "  },\n",
        "  \"Fuse\": {\n",
        "    \"VelocityMod\": 1.0,\n",
        "    \"KineticDamageMod\": 1.0,\n",
        "    \"ArmorPierceMod\": 1.0,\n",
        "    \"ChemMod\": 1.0,\n",
        "    \"MaxLength\": 100,\n",
        "    \"ShortName\": \"Fuse\",\n",
        "  }\n",
        "}\n",
        "baseData = {\n",
        "  \"BaseBleeder\": {\n",
        "    \"VelocityMod\": 1.0,  # special +0.15 bonus handled elsewhere\n",
        "    \"KineticDamageMod\": 1.0,\n",
        "    \"ArmorPierceMod\": 1.0,\n",
        "    \"ChemMod\": 1.0,\n",
        "    \"MaxLength\": 100,\n",
        "    \"ShortName\": \"BB\",\n",
        "  },\n",
        "  \"Tracer\": {\n",
        "    \"VelocityMod\": 1.0,\n",
        "    \"KineticDamageMod\": 1.0,\n",
        "    \"ArmorPierceMod\": 1.0,\n",
        "    \"ChemMod\": 1.0,\n",
        "    \"MaxLength\": 100,\n",
        "    \"ShortName\": \"Tracer\",\n",
        "  }\n",
        "}\n",
        "\n"
      ],
      "metadata": {
        "id": "Ept3qX9ajkzc"
      },
      "execution_count": 2,
      "outputs": []
    },
    {
      "cell_type": "markdown",
      "source": [
        "###Cost Data"
      ],
      "metadata": {
        "id": "6JJDWeUqvgme"
      }
    },
    {
      "cell_type": "code",
      "source": [
        "costData = {\n",
        "  \"InputFeeder\": 50,\n",
        "  \"Cooler\": 50,\n",
        "  \"RecoilAbsorber\": 80, # 80 per meter, longer ones scale linearly\n",
        "  \"RailCharger\": 400,\n",
        "  \"RailMagnet\": 300,\n",
        "  \"Loader\": {\n",
        "    \"Belt\": 600,\n",
        "    1: 240,\n",
        "    2: 300,\n",
        "    3: 330,\n",
        "    4: 360,\n",
        "    5: 390,\n",
        "    6: 420,\n",
        "    7: 450,\n",
        "    8: 480,\n",
        "  },\n",
        "  \"Clip\": {\n",
        "    \"Belt\": 160,\n",
        "    1: 160,\n",
        "    2: 200,\n",
        "    3: 220,\n",
        "    4: 240,\n",
        "    5: 260,\n",
        "    6: 280,\n",
        "    7: 300,\n",
        "    8: 320,\n",
        "  },\n",
        "  \"Ejector\": 10,\n",
        "}"
      ],
      "metadata": {
        "id": "oVze4LaZvhuG"
      },
      "execution_count": null,
      "outputs": []
    }
  ],
  "metadata": {
    "kernelspec": {
      "display_name": "Python 3 (ipykernel)",
      "language": "python",
      "name": "python3"
    },
    "language_info": {
      "codemirror_mode": {
        "name": "ipython",
        "version": 3
      },
      "file_extension": ".py",
      "mimetype": "text/x-python",
      "name": "python",
      "nbconvert_exporter": "python",
      "pygments_lexer": "ipython3",
      "version": "3.9.12"
    },
    "colab": {
      "provenance": [],
      "include_colab_link": true
    },
    "widgets": {
      "application/vnd.jupyter.widget-state+json": {
        "f1ffddc75d8440cd85910d2054fdff1f": {
          "model_module": "@jupyter-widgets/controls",
          "model_name": "BoundedIntTextModel",
          "model_module_version": "1.5.0",
          "state": {
            "_dom_classes": [],
            "_model_module": "@jupyter-widgets/controls",
            "_model_module_version": "1.5.0",
            "_model_name": "BoundedIntTextModel",
            "_view_count": null,
            "_view_module": "@jupyter-widgets/controls",
            "_view_module_version": "1.5.0",
            "_view_name": "IntTextView",
            "continuous_update": false,
            "description": "param1",
            "description_tooltip": null,
            "disabled": false,
            "layout": "IPY_MODEL_7245d679f8964a53b5edd82dc7d8a40c",
            "max": 10,
            "min": 0,
            "step": 1,
            "style": "IPY_MODEL_9c742fde245d46d4afd1e1bd9b417158",
            "value": 0
          }
        },
        "7245d679f8964a53b5edd82dc7d8a40c": {
          "model_module": "@jupyter-widgets/base",
          "model_name": "LayoutModel",
          "model_module_version": "1.2.0",
          "state": {
            "_model_module": "@jupyter-widgets/base",
            "_model_module_version": "1.2.0",
            "_model_name": "LayoutModel",
            "_view_count": null,
            "_view_module": "@jupyter-widgets/base",
            "_view_module_version": "1.2.0",
            "_view_name": "LayoutView",
            "align_content": null,
            "align_items": null,
            "align_self": null,
            "border": null,
            "bottom": null,
            "display": null,
            "flex": null,
            "flex_flow": null,
            "grid_area": null,
            "grid_auto_columns": null,
            "grid_auto_flow": null,
            "grid_auto_rows": null,
            "grid_column": null,
            "grid_gap": null,
            "grid_row": null,
            "grid_template_areas": null,
            "grid_template_columns": null,
            "grid_template_rows": null,
            "height": null,
            "justify_content": null,
            "justify_items": null,
            "left": null,
            "margin": null,
            "max_height": null,
            "max_width": null,
            "min_height": null,
            "min_width": null,
            "object_fit": null,
            "object_position": null,
            "order": null,
            "overflow": null,
            "overflow_x": null,
            "overflow_y": null,
            "padding": null,
            "right": null,
            "top": null,
            "visibility": null,
            "width": null
          }
        },
        "9c742fde245d46d4afd1e1bd9b417158": {
          "model_module": "@jupyter-widgets/controls",
          "model_name": "DescriptionStyleModel",
          "model_module_version": "1.5.0",
          "state": {
            "_model_module": "@jupyter-widgets/controls",
            "_model_module_version": "1.5.0",
            "_model_name": "DescriptionStyleModel",
            "_view_count": null,
            "_view_module": "@jupyter-widgets/base",
            "_view_module_version": "1.2.0",
            "_view_name": "StyleView",
            "description_width": ""
          }
        },
        "1ca880d6ec7246b4ae0d581f0fa16428": {
          "model_module": "@jupyter-widgets/controls",
          "model_name": "IntSliderModel",
          "model_module_version": "1.5.0",
          "state": {
            "_dom_classes": [],
            "_model_module": "@jupyter-widgets/controls",
            "_model_module_version": "1.5.0",
            "_model_name": "IntSliderModel",
            "_view_count": null,
            "_view_module": "@jupyter-widgets/controls",
            "_view_module_version": "1.5.0",
            "_view_name": "IntSliderView",
            "continuous_update": true,
            "description": "",
            "description_tooltip": null,
            "disabled": false,
            "layout": "IPY_MODEL_420e017211f84c6ea180d3d21ccd6a32",
            "max": 10,
            "min": 0,
            "orientation": "horizontal",
            "readout": true,
            "readout_format": "d",
            "step": 1,
            "style": "IPY_MODEL_20ee4d875f454d9c91295372a533f529",
            "value": 0
          }
        },
        "420e017211f84c6ea180d3d21ccd6a32": {
          "model_module": "@jupyter-widgets/base",
          "model_name": "LayoutModel",
          "model_module_version": "1.2.0",
          "state": {
            "_model_module": "@jupyter-widgets/base",
            "_model_module_version": "1.2.0",
            "_model_name": "LayoutModel",
            "_view_count": null,
            "_view_module": "@jupyter-widgets/base",
            "_view_module_version": "1.2.0",
            "_view_name": "LayoutView",
            "align_content": null,
            "align_items": null,
            "align_self": null,
            "border": null,
            "bottom": null,
            "display": null,
            "flex": null,
            "flex_flow": null,
            "grid_area": null,
            "grid_auto_columns": null,
            "grid_auto_flow": null,
            "grid_auto_rows": null,
            "grid_column": null,
            "grid_gap": null,
            "grid_row": null,
            "grid_template_areas": null,
            "grid_template_columns": null,
            "grid_template_rows": null,
            "height": null,
            "justify_content": null,
            "justify_items": null,
            "left": null,
            "margin": null,
            "max_height": null,
            "max_width": null,
            "min_height": null,
            "min_width": null,
            "object_fit": null,
            "object_position": null,
            "order": null,
            "overflow": null,
            "overflow_x": null,
            "overflow_y": null,
            "padding": null,
            "right": null,
            "top": null,
            "visibility": null,
            "width": null
          }
        },
        "20ee4d875f454d9c91295372a533f529": {
          "model_module": "@jupyter-widgets/controls",
          "model_name": "SliderStyleModel",
          "model_module_version": "1.5.0",
          "state": {
            "_model_module": "@jupyter-widgets/controls",
            "_model_module_version": "1.5.0",
            "_model_name": "SliderStyleModel",
            "_view_count": null,
            "_view_module": "@jupyter-widgets/base",
            "_view_module_version": "1.2.0",
            "_view_name": "StyleView",
            "description_width": "",
            "handle_color": null
          }
        },
        "de1ffa5c295b4902bad97d7ac559b98e": {
          "model_module": "@jupyter-widgets/controls",
          "model_name": "IntRangeSliderModel",
          "model_module_version": "1.5.0",
          "state": {
            "_dom_classes": [],
            "_model_module": "@jupyter-widgets/controls",
            "_model_module_version": "1.5.0",
            "_model_name": "IntRangeSliderModel",
            "_view_count": null,
            "_view_module": "@jupyter-widgets/controls",
            "_view_module_version": "1.5.0",
            "_view_name": "IntRangeSliderView",
            "continuous_update": true,
            "description": "",
            "description_tooltip": null,
            "disabled": false,
            "layout": "IPY_MODEL_2d943d8869d94b2b92128e48fdc86026",
            "max": 10,
            "min": 0,
            "orientation": "horizontal",
            "readout": true,
            "readout_format": "d",
            "step": 1,
            "style": "IPY_MODEL_58c64a43c4d24ebd8a03ce7aa94ca106",
            "value": [
              2,
              7
            ]
          }
        },
        "2d943d8869d94b2b92128e48fdc86026": {
          "model_module": "@jupyter-widgets/base",
          "model_name": "LayoutModel",
          "model_module_version": "1.2.0",
          "state": {
            "_model_module": "@jupyter-widgets/base",
            "_model_module_version": "1.2.0",
            "_model_name": "LayoutModel",
            "_view_count": null,
            "_view_module": "@jupyter-widgets/base",
            "_view_module_version": "1.2.0",
            "_view_name": "LayoutView",
            "align_content": null,
            "align_items": null,
            "align_self": null,
            "border": null,
            "bottom": null,
            "display": null,
            "flex": null,
            "flex_flow": null,
            "grid_area": null,
            "grid_auto_columns": null,
            "grid_auto_flow": null,
            "grid_auto_rows": null,
            "grid_column": null,
            "grid_gap": null,
            "grid_row": null,
            "grid_template_areas": null,
            "grid_template_columns": null,
            "grid_template_rows": null,
            "height": null,
            "justify_content": null,
            "justify_items": null,
            "left": null,
            "margin": null,
            "max_height": null,
            "max_width": null,
            "min_height": null,
            "min_width": null,
            "object_fit": null,
            "object_position": null,
            "order": null,
            "overflow": null,
            "overflow_x": null,
            "overflow_y": null,
            "padding": null,
            "right": null,
            "top": null,
            "visibility": null,
            "width": null
          }
        },
        "58c64a43c4d24ebd8a03ce7aa94ca106": {
          "model_module": "@jupyter-widgets/controls",
          "model_name": "SliderStyleModel",
          "model_module_version": "1.5.0",
          "state": {
            "_model_module": "@jupyter-widgets/controls",
            "_model_module_version": "1.5.0",
            "_model_name": "SliderStyleModel",
            "_view_count": null,
            "_view_module": "@jupyter-widgets/base",
            "_view_module_version": "1.2.0",
            "_view_name": "StyleView",
            "description_width": "",
            "handle_color": null
          }
        },
        "cb3036473f524333a3e3ac630057d649": {
          "model_module": "@jupyter-widgets/controls",
          "model_name": "RadioButtonsModel",
          "model_module_version": "1.5.0",
          "state": {
            "_dom_classes": [],
            "_model_module": "@jupyter-widgets/controls",
            "_model_module_version": "1.5.0",
            "_model_name": "RadioButtonsModel",
            "_options_labels": [
              "Option A",
              "Option B",
              "Option C"
            ],
            "_view_count": null,
            "_view_module": "@jupyter-widgets/controls",
            "_view_module_version": "1.5.0",
            "_view_name": "RadioButtonsView",
            "description": "param3",
            "description_tooltip": null,
            "disabled": false,
            "index": 0,
            "layout": "IPY_MODEL_9def5cccb8794f93b5453c5a5369c329",
            "style": "IPY_MODEL_a79ba565d2bc4eecb0e6cd7d52a69e86"
          }
        },
        "9def5cccb8794f93b5453c5a5369c329": {
          "model_module": "@jupyter-widgets/base",
          "model_name": "LayoutModel",
          "model_module_version": "1.2.0",
          "state": {
            "_model_module": "@jupyter-widgets/base",
            "_model_module_version": "1.2.0",
            "_model_name": "LayoutModel",
            "_view_count": null,
            "_view_module": "@jupyter-widgets/base",
            "_view_module_version": "1.2.0",
            "_view_name": "LayoutView",
            "align_content": null,
            "align_items": null,
            "align_self": null,
            "border": null,
            "bottom": null,
            "display": null,
            "flex": null,
            "flex_flow": null,
            "grid_area": null,
            "grid_auto_columns": null,
            "grid_auto_flow": null,
            "grid_auto_rows": null,
            "grid_column": null,
            "grid_gap": null,
            "grid_row": null,
            "grid_template_areas": null,
            "grid_template_columns": null,
            "grid_template_rows": null,
            "height": null,
            "justify_content": null,
            "justify_items": null,
            "left": null,
            "margin": null,
            "max_height": null,
            "max_width": null,
            "min_height": null,
            "min_width": null,
            "object_fit": null,
            "object_position": null,
            "order": null,
            "overflow": null,
            "overflow_x": null,
            "overflow_y": null,
            "padding": null,
            "right": null,
            "top": null,
            "visibility": null,
            "width": null
          }
        },
        "a79ba565d2bc4eecb0e6cd7d52a69e86": {
          "model_module": "@jupyter-widgets/controls",
          "model_name": "DescriptionStyleModel",
          "model_module_version": "1.5.0",
          "state": {
            "_model_module": "@jupyter-widgets/controls",
            "_model_module_version": "1.5.0",
            "_model_name": "DescriptionStyleModel",
            "_view_count": null,
            "_view_module": "@jupyter-widgets/base",
            "_view_module_version": "1.2.0",
            "_view_name": "StyleView",
            "description_width": ""
          }
        },
        "a024a70e296648709d69cdb6793e85c2": {
          "model_module": "@jupyter-widgets/controls",
          "model_name": "HBoxModel",
          "model_module_version": "1.5.0",
          "state": {
            "_dom_classes": [],
            "_model_module": "@jupyter-widgets/controls",
            "_model_module_version": "1.5.0",
            "_model_name": "HBoxModel",
            "_view_count": null,
            "_view_module": "@jupyter-widgets/controls",
            "_view_module_version": "1.5.0",
            "_view_name": "HBoxView",
            "box_style": "",
            "children": [
              "IPY_MODEL_63a01f75fe8b4355b674d68d4ab7854f",
              "IPY_MODEL_31640a8f63394527b26d139cb58fbcfe",
              "IPY_MODEL_4d8beb9661a342ec9f53fd85833d6aa9",
              "IPY_MODEL_02d22a471d3a496c8053f7c8babdb40a"
            ],
            "layout": "IPY_MODEL_210106be024846c584ade5b419bf4da8"
          }
        },
        "63a01f75fe8b4355b674d68d4ab7854f": {
          "model_module": "@jupyter-widgets/controls",
          "model_name": "LabelModel",
          "model_module_version": "1.5.0",
          "state": {
            "_dom_classes": [],
            "_model_module": "@jupyter-widgets/controls",
            "_model_module_version": "1.5.0",
            "_model_name": "LabelModel",
            "_view_count": null,
            "_view_module": "@jupyter-widgets/controls",
            "_view_module_version": "1.5.0",
            "_view_name": "LabelView",
            "description": "",
            "description_tooltip": null,
            "layout": "IPY_MODEL_fcfef40bd73b461eb567dd58a54c3706",
            "placeholder": "​",
            "style": "IPY_MODEL_66b28ef0d37e48eeb7c60144c6035b56",
            "value": "param4"
          }
        },
        "31640a8f63394527b26d139cb58fbcfe": {
          "model_module": "@jupyter-widgets/controls",
          "model_name": "CheckboxModel",
          "model_module_version": "1.5.0",
          "state": {
            "_dom_classes": [],
            "_model_module": "@jupyter-widgets/controls",
            "_model_module_version": "1.5.0",
            "_model_name": "CheckboxModel",
            "_view_count": null,
            "_view_module": "@jupyter-widgets/controls",
            "_view_module_version": "1.5.0",
            "_view_name": "CheckboxView",
            "description": "Option 1",
            "description_tooltip": null,
            "disabled": false,
            "indent": true,
            "layout": "IPY_MODEL_6352e34659014b0dbd4ec331153b5fd1",
            "style": "IPY_MODEL_2318069f3ee74647bcea3c30c943ec27",
            "value": false
          }
        },
        "4d8beb9661a342ec9f53fd85833d6aa9": {
          "model_module": "@jupyter-widgets/controls",
          "model_name": "CheckboxModel",
          "model_module_version": "1.5.0",
          "state": {
            "_dom_classes": [],
            "_model_module": "@jupyter-widgets/controls",
            "_model_module_version": "1.5.0",
            "_model_name": "CheckboxModel",
            "_view_count": null,
            "_view_module": "@jupyter-widgets/controls",
            "_view_module_version": "1.5.0",
            "_view_name": "CheckboxView",
            "description": "Option 2",
            "description_tooltip": null,
            "disabled": false,
            "indent": true,
            "layout": "IPY_MODEL_970deac283fd4a188cbf9ff34fcc08b0",
            "style": "IPY_MODEL_afa4e76efd3745549daca677f02c4992",
            "value": false
          }
        },
        "02d22a471d3a496c8053f7c8babdb40a": {
          "model_module": "@jupyter-widgets/controls",
          "model_name": "CheckboxModel",
          "model_module_version": "1.5.0",
          "state": {
            "_dom_classes": [],
            "_model_module": "@jupyter-widgets/controls",
            "_model_module_version": "1.5.0",
            "_model_name": "CheckboxModel",
            "_view_count": null,
            "_view_module": "@jupyter-widgets/controls",
            "_view_module_version": "1.5.0",
            "_view_name": "CheckboxView",
            "description": "Option 3",
            "description_tooltip": null,
            "disabled": false,
            "indent": true,
            "layout": "IPY_MODEL_6c7de0f61b3b4c6e98de9ec9278d65c6",
            "style": "IPY_MODEL_398ba2af3400422291f1d8867a188fc8",
            "value": false
          }
        },
        "210106be024846c584ade5b419bf4da8": {
          "model_module": "@jupyter-widgets/base",
          "model_name": "LayoutModel",
          "model_module_version": "1.2.0",
          "state": {
            "_model_module": "@jupyter-widgets/base",
            "_model_module_version": "1.2.0",
            "_model_name": "LayoutModel",
            "_view_count": null,
            "_view_module": "@jupyter-widgets/base",
            "_view_module_version": "1.2.0",
            "_view_name": "LayoutView",
            "align_content": null,
            "align_items": null,
            "align_self": null,
            "border": null,
            "bottom": null,
            "display": null,
            "flex": null,
            "flex_flow": null,
            "grid_area": null,
            "grid_auto_columns": null,
            "grid_auto_flow": null,
            "grid_auto_rows": null,
            "grid_column": null,
            "grid_gap": null,
            "grid_row": null,
            "grid_template_areas": null,
            "grid_template_columns": null,
            "grid_template_rows": null,
            "height": null,
            "justify_content": null,
            "justify_items": null,
            "left": null,
            "margin": null,
            "max_height": null,
            "max_width": null,
            "min_height": null,
            "min_width": null,
            "object_fit": null,
            "object_position": null,
            "order": null,
            "overflow": null,
            "overflow_x": null,
            "overflow_y": null,
            "padding": null,
            "right": null,
            "top": null,
            "visibility": null,
            "width": null
          }
        },
        "fcfef40bd73b461eb567dd58a54c3706": {
          "model_module": "@jupyter-widgets/base",
          "model_name": "LayoutModel",
          "model_module_version": "1.2.0",
          "state": {
            "_model_module": "@jupyter-widgets/base",
            "_model_module_version": "1.2.0",
            "_model_name": "LayoutModel",
            "_view_count": null,
            "_view_module": "@jupyter-widgets/base",
            "_view_module_version": "1.2.0",
            "_view_name": "LayoutView",
            "align_content": null,
            "align_items": null,
            "align_self": null,
            "border": null,
            "bottom": null,
            "display": null,
            "flex": null,
            "flex_flow": null,
            "grid_area": null,
            "grid_auto_columns": null,
            "grid_auto_flow": null,
            "grid_auto_rows": null,
            "grid_column": null,
            "grid_gap": null,
            "grid_row": null,
            "grid_template_areas": null,
            "grid_template_columns": null,
            "grid_template_rows": null,
            "height": null,
            "justify_content": null,
            "justify_items": null,
            "left": null,
            "margin": null,
            "max_height": null,
            "max_width": null,
            "min_height": null,
            "min_width": null,
            "object_fit": null,
            "object_position": null,
            "order": null,
            "overflow": null,
            "overflow_x": null,
            "overflow_y": null,
            "padding": null,
            "right": null,
            "top": null,
            "visibility": null,
            "width": null
          }
        },
        "66b28ef0d37e48eeb7c60144c6035b56": {
          "model_module": "@jupyter-widgets/controls",
          "model_name": "DescriptionStyleModel",
          "model_module_version": "1.5.0",
          "state": {
            "_model_module": "@jupyter-widgets/controls",
            "_model_module_version": "1.5.0",
            "_model_name": "DescriptionStyleModel",
            "_view_count": null,
            "_view_module": "@jupyter-widgets/base",
            "_view_module_version": "1.2.0",
            "_view_name": "StyleView",
            "description_width": ""
          }
        },
        "6352e34659014b0dbd4ec331153b5fd1": {
          "model_module": "@jupyter-widgets/base",
          "model_name": "LayoutModel",
          "model_module_version": "1.2.0",
          "state": {
            "_model_module": "@jupyter-widgets/base",
            "_model_module_version": "1.2.0",
            "_model_name": "LayoutModel",
            "_view_count": null,
            "_view_module": "@jupyter-widgets/base",
            "_view_module_version": "1.2.0",
            "_view_name": "LayoutView",
            "align_content": null,
            "align_items": null,
            "align_self": null,
            "border": null,
            "bottom": null,
            "display": null,
            "flex": null,
            "flex_flow": null,
            "grid_area": null,
            "grid_auto_columns": null,
            "grid_auto_flow": null,
            "grid_auto_rows": null,
            "grid_column": null,
            "grid_gap": null,
            "grid_row": null,
            "grid_template_areas": null,
            "grid_template_columns": null,
            "grid_template_rows": null,
            "height": null,
            "justify_content": null,
            "justify_items": null,
            "left": null,
            "margin": null,
            "max_height": null,
            "max_width": null,
            "min_height": null,
            "min_width": null,
            "object_fit": null,
            "object_position": null,
            "order": null,
            "overflow": null,
            "overflow_x": null,
            "overflow_y": null,
            "padding": null,
            "right": null,
            "top": null,
            "visibility": null,
            "width": null
          }
        },
        "2318069f3ee74647bcea3c30c943ec27": {
          "model_module": "@jupyter-widgets/controls",
          "model_name": "DescriptionStyleModel",
          "model_module_version": "1.5.0",
          "state": {
            "_model_module": "@jupyter-widgets/controls",
            "_model_module_version": "1.5.0",
            "_model_name": "DescriptionStyleModel",
            "_view_count": null,
            "_view_module": "@jupyter-widgets/base",
            "_view_module_version": "1.2.0",
            "_view_name": "StyleView",
            "description_width": ""
          }
        },
        "970deac283fd4a188cbf9ff34fcc08b0": {
          "model_module": "@jupyter-widgets/base",
          "model_name": "LayoutModel",
          "model_module_version": "1.2.0",
          "state": {
            "_model_module": "@jupyter-widgets/base",
            "_model_module_version": "1.2.0",
            "_model_name": "LayoutModel",
            "_view_count": null,
            "_view_module": "@jupyter-widgets/base",
            "_view_module_version": "1.2.0",
            "_view_name": "LayoutView",
            "align_content": null,
            "align_items": null,
            "align_self": null,
            "border": null,
            "bottom": null,
            "display": null,
            "flex": null,
            "flex_flow": null,
            "grid_area": null,
            "grid_auto_columns": null,
            "grid_auto_flow": null,
            "grid_auto_rows": null,
            "grid_column": null,
            "grid_gap": null,
            "grid_row": null,
            "grid_template_areas": null,
            "grid_template_columns": null,
            "grid_template_rows": null,
            "height": null,
            "justify_content": null,
            "justify_items": null,
            "left": null,
            "margin": null,
            "max_height": null,
            "max_width": null,
            "min_height": null,
            "min_width": null,
            "object_fit": null,
            "object_position": null,
            "order": null,
            "overflow": null,
            "overflow_x": null,
            "overflow_y": null,
            "padding": null,
            "right": null,
            "top": null,
            "visibility": null,
            "width": null
          }
        },
        "afa4e76efd3745549daca677f02c4992": {
          "model_module": "@jupyter-widgets/controls",
          "model_name": "DescriptionStyleModel",
          "model_module_version": "1.5.0",
          "state": {
            "_model_module": "@jupyter-widgets/controls",
            "_model_module_version": "1.5.0",
            "_model_name": "DescriptionStyleModel",
            "_view_count": null,
            "_view_module": "@jupyter-widgets/base",
            "_view_module_version": "1.2.0",
            "_view_name": "StyleView",
            "description_width": ""
          }
        },
        "6c7de0f61b3b4c6e98de9ec9278d65c6": {
          "model_module": "@jupyter-widgets/base",
          "model_name": "LayoutModel",
          "model_module_version": "1.2.0",
          "state": {
            "_model_module": "@jupyter-widgets/base",
            "_model_module_version": "1.2.0",
            "_model_name": "LayoutModel",
            "_view_count": null,
            "_view_module": "@jupyter-widgets/base",
            "_view_module_version": "1.2.0",
            "_view_name": "LayoutView",
            "align_content": null,
            "align_items": null,
            "align_self": null,
            "border": null,
            "bottom": null,
            "display": null,
            "flex": null,
            "flex_flow": null,
            "grid_area": null,
            "grid_auto_columns": null,
            "grid_auto_flow": null,
            "grid_auto_rows": null,
            "grid_column": null,
            "grid_gap": null,
            "grid_row": null,
            "grid_template_areas": null,
            "grid_template_columns": null,
            "grid_template_rows": null,
            "height": null,
            "justify_content": null,
            "justify_items": null,
            "left": null,
            "margin": null,
            "max_height": null,
            "max_width": null,
            "min_height": null,
            "min_width": null,
            "object_fit": null,
            "object_position": null,
            "order": null,
            "overflow": null,
            "overflow_x": null,
            "overflow_y": null,
            "padding": null,
            "right": null,
            "top": null,
            "visibility": null,
            "width": null
          }
        },
        "398ba2af3400422291f1d8867a188fc8": {
          "model_module": "@jupyter-widgets/controls",
          "model_name": "DescriptionStyleModel",
          "model_module_version": "1.5.0",
          "state": {
            "_model_module": "@jupyter-widgets/controls",
            "_model_module_version": "1.5.0",
            "_model_name": "DescriptionStyleModel",
            "_view_count": null,
            "_view_module": "@jupyter-widgets/base",
            "_view_module_version": "1.2.0",
            "_view_name": "StyleView",
            "description_width": ""
          }
        },
        "b4246243c8df4e8aabad520862e7b8bb": {
          "model_module": "@jupyter-widgets/controls",
          "model_name": "CheckboxModel",
          "model_module_version": "1.5.0",
          "state": {
            "_dom_classes": [],
            "_model_module": "@jupyter-widgets/controls",
            "_model_module_version": "1.5.0",
            "_model_name": "CheckboxModel",
            "_view_count": null,
            "_view_module": "@jupyter-widgets/controls",
            "_view_module_version": "1.5.0",
            "_view_name": "CheckboxView",
            "description": "param5",
            "description_tooltip": null,
            "disabled": false,
            "indent": true,
            "layout": "IPY_MODEL_ebfbbf107e2945e49a1a8d9e6d652e48",
            "style": "IPY_MODEL_e6b87531231d41debb42a1c2886af8c6",
            "value": false
          }
        },
        "ebfbbf107e2945e49a1a8d9e6d652e48": {
          "model_module": "@jupyter-widgets/base",
          "model_name": "LayoutModel",
          "model_module_version": "1.2.0",
          "state": {
            "_model_module": "@jupyter-widgets/base",
            "_model_module_version": "1.2.0",
            "_model_name": "LayoutModel",
            "_view_count": null,
            "_view_module": "@jupyter-widgets/base",
            "_view_module_version": "1.2.0",
            "_view_name": "LayoutView",
            "align_content": null,
            "align_items": null,
            "align_self": null,
            "border": null,
            "bottom": null,
            "display": null,
            "flex": null,
            "flex_flow": null,
            "grid_area": null,
            "grid_auto_columns": null,
            "grid_auto_flow": null,
            "grid_auto_rows": null,
            "grid_column": null,
            "grid_gap": null,
            "grid_row": null,
            "grid_template_areas": null,
            "grid_template_columns": null,
            "grid_template_rows": null,
            "height": null,
            "justify_content": null,
            "justify_items": null,
            "left": null,
            "margin": null,
            "max_height": null,
            "max_width": null,
            "min_height": null,
            "min_width": null,
            "object_fit": null,
            "object_position": null,
            "order": null,
            "overflow": null,
            "overflow_x": null,
            "overflow_y": null,
            "padding": null,
            "right": null,
            "top": null,
            "visibility": null,
            "width": null
          }
        },
        "e6b87531231d41debb42a1c2886af8c6": {
          "model_module": "@jupyter-widgets/controls",
          "model_name": "DescriptionStyleModel",
          "model_module_version": "1.5.0",
          "state": {
            "_model_module": "@jupyter-widgets/controls",
            "_model_module_version": "1.5.0",
            "_model_name": "DescriptionStyleModel",
            "_view_count": null,
            "_view_module": "@jupyter-widgets/base",
            "_view_module_version": "1.2.0",
            "_view_name": "StyleView",
            "description_width": ""
          }
        }
      }
    }
  },
  "nbformat": 4,
  "nbformat_minor": 0
}