{
  "cells": [
    {
      "cell_type": "markdown",
      "metadata": {
        "id": "view-in-github",
        "colab_type": "text"
      },
      "source": [
        "<a href=\"https://colab.research.google.com/github/nmalby/APS/blob/main/APS.ipynb\" target=\"_parent\"><img src=\"https://colab.research.google.com/assets/colab-badge.svg\" alt=\"Open In Colab\"/></a>"
      ]
    },
    {
      "cell_type": "markdown",
      "source": [
        "#APS Explorer"
      ],
      "metadata": {
        "id": "LczMfTMhNuoQ"
      }
    },
    {
      "cell_type": "markdown",
      "source": [
        "##Parameters"
      ],
      "metadata": {
        "id": "iR2GHxjPtDsm"
      }
    },
    {
      "cell_type": "markdown",
      "source": [
        "###Configuration"
      ],
      "metadata": {
        "id": "B8UmoMT3qOiY"
      }
    },
    {
      "cell_type": "markdown",
      "source": [
        "#####Template"
      ],
      "metadata": {
        "id": "duSI-ZGDsRhf"
      }
    },
    {
      "cell_type": "code",
      "source": [
        "'''\n",
        "Parameters\n",
        "  Configuration\n",
        "    Shell\n",
        "      Loader      - Belt, 1, 2, 3, 4, 6, 7, 8             - Multiple            CheckBox\n",
        "      Modules\n",
        "        Head      - AP, Heavy, AP, Thump, Chem, Special   - Multiple            Checkbox\n",
        "        Fuse      - None, Single, Double                  - Single              Radio\n",
        "        Base      - None, BB, Trace                       - Single              Radio\n",
        "    Gun\n",
        "      Gauge       - 18-500                                - Single              Field/Slider\n",
        "      Barrels     - 1-6                                   - Single              Radio\n",
        "      Evacuator   - Y/N                                   - Single              Radio\n",
        "      Ejector     - Y/N                                   - Single              Radio\n",
        "      Rail        - Y/N                                   - Single              Radio\n",
        "      Rail Limit  - 1000-20000                            - Single              Field/Slider\n",
        "  \n",
        "    Engine\n",
        "      PPM         - 200-800                               - Single              Field/Slider\n",
        "      PPV         - 10-200                                - Single              Field/Slider\n",
        "      PPB         - 10-200                                - Single              Field/Slider\n",
        "\n",
        "  Requirements\n",
        "    AP            - 0-60                                  - Single              Field/Slider\n",
        "    Velocity      - 500-2000                              - Multiple (min-max)  Slider\n",
        "    (Pen Req)     -                                       - Single              Field\n",
        "\n",
        "  Goal Weights\n",
        "    KD            - 0-1                                   - Single              Field/Slider\n",
        "    CD            - 0-1                                   - Single              Field/Slider\n",
        "    ROF           - 0-1                                   - Single              Field/Slider\n",
        "    (Uptime)      - 0-1 (Belt)                            - Single              Field/Slider\n",
        "    Volume        - 0-1                                   - Single              Field/Slider\n",
        "    Cost          - 0-1 (Build +10 min)                   - Single              Field/Slider\n",
        "'''"
      ],
      "metadata": {
        "id": "wiW_mwUaN5Ep"
      },
      "execution_count": null,
      "outputs": []
    },
    {
      "cell_type": "markdown",
      "source": [
        "####Shell"
      ],
      "metadata": {
        "id": "41JVknAEqTaX"
      }
    },
    {
      "cell_type": "code",
      "source": [
        "shellParams = {\n",
        "  'loaderChoices' : {\n",
        "    'type': 'MultipleChoice',\n",
        "    'options': loaderLengths,\n",
        "    'value': [4],\n",
        "    'description': 'Loader lengths'\n",
        "  },\n",
        "  'headChoices' : {\n",
        "    'type': 'MultipleChoice',\n",
        "    'options': headData.keys(),\n",
        "    'value': ['AP'],\n",
        "    'description': 'Heads'\n",
        "  },\n",
        "  'fuseCount': {\n",
        "    'type': 'IntSlider',\n",
        "    'min': 0,\n",
        "    'max': 5,\n",
        "    'step': 1,\n",
        "    'value': 0,\n",
        "    'description': 'Fuses'\n",
        "  },\n",
        "  'baseChoices' : {\n",
        "    'type': 'MultipleChoice',\n",
        "    'options': baseData.keys(),\n",
        "    'value': [],\n",
        "    'description': 'Bases'\n",
        "  }\n",
        "}"
      ],
      "metadata": {
        "id": "y7F_f4Huwjgq"
      },
      "execution_count": null,
      "outputs": []
    },
    {
      "cell_type": "markdown",
      "source": [
        "####Gun"
      ],
      "metadata": {
        "id": "5zEuOHu8qjsQ"
      }
    },
    {
      "cell_type": "code",
      "source": [
        "gunParams = {\n",
        "    'gaugeChoice': {\n",
        "        'type': 'BoundedIntText_IntSlider',\n",
        "        'min': 18,\n",
        "        'max': 500,\n",
        "        'step': 1,\n",
        "        'value': 250,\n",
        "        'description': 'Gauge'\n",
        "    },\n",
        "    'evacChoice': {\n",
        "        'type': 'Checkbox',\n",
        "        'value': False,\n",
        "        'description': 'Evacuators'\n",
        "    },\n",
        "    'ejecChoice': {\n",
        "        'type': 'Checkbox',\n",
        "        'value': False,\n",
        "        'description': 'Ejectors'\n",
        "    },\n",
        "    'barrelsChoice': {\n",
        "        'type': 'BoundedIntText_IntSlider',\n",
        "        'min': 1,\n",
        "        'max': 6,\n",
        "        'step': 1,\n",
        "        'value': 1,\n",
        "        'description': 'Barrels'\n",
        "    },\n",
        "    'clipsPerLoader': {\n",
        "        'type': 'BoundedIntText_IntSlider',\n",
        "        'min': 1,\n",
        "        'max': 6,\n",
        "        'step': 1,\n",
        "        'value': 1,\n",
        "        'description': 'Clips per loader'\n",
        "    },\n",
        "    'railChoice': {\n",
        "        'type': 'Checkbox',\n",
        "        'value': False,\n",
        "        'description': 'Railgun'\n",
        "    },\n",
        "    'railLimit': {\n",
        "        'type': 'BoundedIntText_IntSlider',\n",
        "        'min': 1000,\n",
        "        'max': 20000,\n",
        "        'step': 5000,\n",
        "        'value': 1000,\n",
        "        'description': 'Rail draw limit'\n",
        "    }\n",
        "}"
      ],
      "metadata": {
        "id": "fjbGrfzuqkfI"
      },
      "execution_count": null,
      "outputs": []
    },
    {
      "cell_type": "markdown",
      "source": [
        "####Engine"
      ],
      "metadata": {
        "id": "AJ1mdHXkrDZA"
      }
    },
    {
      "cell_type": "code",
      "source": [
        "engineParams = {\n",
        "    'PPM' : {\n",
        "        'type': 'BoundedIntText_IntSlider',\n",
        "        'min': 200,\n",
        "        'max': 800,\n",
        "        'step': 10,\n",
        "        'value': 500,\n",
        "        'description': 'Power per Mat'\n",
        "    },\n",
        "    'PPV' : {\n",
        "        'type': 'BoundedIntText_IntSlider',\n",
        "        'min': 10,\n",
        "        'max': 200,\n",
        "        'step': 1,\n",
        "        'value': 50,\n",
        "        'description': 'Power per Volume'\n",
        "    },\n",
        "    'PPC' : {\n",
        "        'type': 'BoundedFloatText_FloatSlider',\n",
        "        'min': 0.1,\n",
        "        'max': 10,\n",
        "        'step': 0.1,\n",
        "        'value': 0.5,\n",
        "        'description': 'Power per Build Cost',\n",
        "        'disabled':True\n",
        "    }\n",
        "}"
      ],
      "metadata": {
        "id": "ty18S25erFHv"
      },
      "execution_count": null,
      "outputs": []
    },
    {
      "cell_type": "markdown",
      "source": [
        "####Requirements"
      ],
      "metadata": {
        "id": "9HT9QYUput4g"
      }
    },
    {
      "cell_type": "code",
      "source": [
        "requirementParams = {\n",
        "    'velocityRange' : {\n",
        "        'type': 'IntRangeSlider',\n",
        "        'min': 100,\n",
        "        'max': 2000,\n",
        "        'value': [500, 2000],\n",
        "        'description': \"Velocity Range\"\n",
        "    }\n",
        "}"
      ],
      "metadata": {
        "id": "9ZeMbGd-utAY"
      },
      "execution_count": null,
      "outputs": []
    },
    {
      "cell_type": "markdown",
      "source": [
        "###Goal"
      ],
      "metadata": {
        "id": "N1PdTwW9qhNA"
      }
    },
    {
      "cell_type": "code",
      "source": [
        "goalParams = {\n",
        "    'KDWeight' : {\n",
        "        'type': 'BoundedFloatText_FloatSlider',\n",
        "        'min': 0,\n",
        "        'max': 1,\n",
        "        'step': 0.1,\n",
        "        'value': 0.5,\n",
        "        'description': 'Kinetic Damage'\n",
        "    },\n",
        "    'CDWeight' : {\n",
        "        'type': 'BoundedFloatText_FloatSlider',\n",
        "        'min': 0,\n",
        "        'max': 1,\n",
        "        'step': 0.1,\n",
        "        'value': 0.5,\n",
        "        'description': 'Chem Damage'\n",
        "    },\n",
        "    'ROFWeight' : {\n",
        "        'type': 'BoundedFloatText_FloatSlider',\n",
        "        'min': 0,\n",
        "        'max': 1,\n",
        "        'step': 0.1,\n",
        "        'value': 0.5,\n",
        "        'description': 'Rate of Fire'\n",
        "    },\n",
        "    'BeltUptimeWeight' : {\n",
        "        'type': 'BoundedFloatText_FloatSlider',\n",
        "        'min': 0,\n",
        "        'max': 1,\n",
        "        'step': 0.1,\n",
        "        'value': 0.5,\n",
        "        'description': 'Belt Uptime'\n",
        "    },\n",
        "    'VolumeWeight' : {\n",
        "        'type': 'BoundedFloatText_FloatSlider',\n",
        "        'min': 0,\n",
        "        'max': 1,\n",
        "        'step': 0.1,\n",
        "        'value': 0.5,\n",
        "        'description': 'Weight Efficiency'\n",
        "    },\n",
        "    'CostWeight' : {\n",
        "        'type': 'BoundedFloatText_FloatSlider',\n",
        "        'min': 0,\n",
        "        'max': 1,\n",
        "        'step': 0.1,\n",
        "        'value': 0.5,\n",
        "        'description': 'Cost Efficiency'\n",
        "    },\n",
        "}"
      ],
      "metadata": {
        "id": "sLZzCWMWwlAa"
      },
      "execution_count": null,
      "outputs": []
    },
    {
      "cell_type": "markdown",
      "source": [
        "##Implementation"
      ],
      "metadata": {
        "id": "DR2zVYArvHoX"
      }
    },
    {
      "cell_type": "code",
      "source": [
        "# import ipywidgets as widgets\n",
        "# from IPython.display import display\n",
        "# import datetime\n",
        "\n",
        "# def paramsChanged(change):\n",
        "#     return datetime.datetime.now()\n",
        "\n",
        "# def initWidgets(params):\n",
        "#     for param_name, config in params.items():\n",
        "#         if config['type'] == 'SelectMultiple':\n",
        "#             widget = widgets.SelectMultiple(**config)"
      ],
      "metadata": {
        "id": "a4K6Piavv-m3"
      },
      "execution_count": null,
      "outputs": []
    },
    {
      "cell_type": "code",
      "source": [
        "#First pass\n",
        "for loader in shellParams['loaderChoices']:\n",
        "    for head in shellParams['headChoices']:\n",
        "        for base in shellParams['baseChoices']:\n",
        "            x=1\n",
        "    \n",
        "    # TODO: create shell object\n",
        "    #       run goal function"
      ],
      "metadata": {
        "id": "NfgUli3uesBH"
      },
      "execution_count": null,
      "outputs": []
    },
    {
      "cell_type": "markdown",
      "source": [
        "###APS Formulas"
      ],
      "metadata": {
        "id": "7G8cqJrGvPTP"
      }
    },
    {
      "cell_type": "code",
      "source": [
        "class Shell:\n",
        "    def __init__(self, template):\n",
        "        self.gauge = template['gauge']\n",
        "        self.loader = template['loader']\n",
        "        self.head = template['head']\n",
        "        self.fuse = template['fuse']\n",
        "        self.base = template[\"base\"]\n",
        "        self.gp = template['gp']\n",
        "        self.rc = template['rc']\n",
        "        self.railCoef = template['railCoef'] if template['railCoef'] else 0\n",
        "        self.railLimit = template['railLimit']      # user restriction\n",
        "\n",
        "        self.gaugeCoefficient = (self.gauge**3 / 125000000.0) ** 0.6\n",
        "\n",
        "\n",
        "    def loaderLength(self):\n",
        "        return self.loader * 1000 if self.loader != \"Belt\" else 1000\n",
        "\n",
        "    def headLength(self):\n",
        "        hd = headData[self.head]\n",
        "        return min(self.gauge, hd.maxLength or 500);\n",
        "\n",
        "    def railMax(self):\n",
        "        return min(self.railLimit, self.gaugeCoefficient * (self.effectiveProjectileModuleCount() + 0.5 * (self.rc or 0)))\n",
        "\n",
        "    def railDraw(self):\n",
        "        return 1\n",
        "\n",
        "    def velocity(self):\n",
        "        return 1\n",
        "\n",
        "    def kineticDamage(self):\n",
        "        return 1\n",
        "    \n",
        "    def AP(self):\n",
        "        return self.velocity * self.overallArmorPierceModifier() * 0.0175;\n",
        "    \n",
        "    def effectiveKineticDamage(self):\n",
        "        return self.kineticDamage * self.AP\n",
        "    \n",
        "    def chemDamage(self):\n",
        "        return 1\n",
        "\n",
        "    def chemRadius(self):\n",
        "        return pow(self.chemDamage(), 0.3);\n",
        "    \n",
        "    def reloadTime(self):\n",
        "        reload  = (self.gauge ** 3 / 125000000)** 0.45 * (2 + self.effectiveProjectileModuleCount() + 0.25 * (self.gp + (self.rc or 0))) * 17.5\n",
        "        \n",
        "        return 0.75 * reload * (self.gauge / 1000) ** 0.45 if self.loader == \"Belt\" else reload\n",
        "\n",
        "    def effectiveProjectileModuleCount(self):\n",
        "        return 1\n",
        "    \n",
        "    def overallArmorPierceModifier(self):\n",
        "        return 1\n",
        "\n",
        "    def loaderVolume(self):\n",
        "        ejectorVolume = 2 if gunParams['ejecChoice'] else 0\n",
        "        return self.loaderLength/1000 + 1 + ejectorVolume\n",
        "    \n",
        "    def recoilVolume(self):\n",
        "        return self.totalRecoil() / (self.reloadTime * 120)\n",
        "    \n",
        "    def coolerVolume(self):\n",
        "        return 1\n",
        "    \n",
        "    def chargerVolume(self):\n",
        "        return self.railMax * self.railDraw / self.reloadTime / 200\n",
        "    \n",
        "    def magnetVolume(self):\n",
        "        return self.railMax * self.railDraw / 5000\n",
        "    \n",
        "    def engineVolume(self):\n",
        "        return (self.maxDraw() * (self.railDraw or 0)) / self.reloadTime() / engineParams['PPV']\n",
        "        \n",
        "    def volumePerIntake(self):\n",
        "        return max(\n",
        "            self.loaderVolume() +\n",
        "            self.recoilVolume() +\n",
        "            self.coolerVolume() +\n",
        "            self.chargerVolume() +\n",
        "            self.magnetVolume() +\n",
        "            self.engineVolume(),\n",
        "            2\n",
        "        )\n",
        "    \n",
        "    def loaderCost(self):\n",
        "        ejectorCost = costData['Ejector'] if gunParams['ejecChoice'] else 0\n",
        "\n",
        "        if self.loader != 'Belt':\n",
        "            clipFraction = gunParams['clipsPerLoader'] / (1 + gunParams['clipsPerLoader'])\n",
        "\n",
        "            return (\n",
        "                (1 - clipFraction) * (costData['Loader'][self.loader] + ejectorCost) + \n",
        "                clipFraction * costData['Clip'][self.loader] +\n",
        "                costData['InputFeeder']\n",
        "            )\n",
        "        return 1    #TODO: Belt cost config\n",
        "    \n",
        "    def recoilCost(self):\n",
        "        return self.recoilVolume() * costData[\"Recoil\"];\n",
        "    \n",
        "    def coolerCost(self):\n",
        "        return self.coolerVolume() * costData[\"Cooler\"];\n",
        "\n",
        "    def chargerCost(self):\n",
        "        return self.chargerVolume() * costData['Charger'];\n",
        "\n",
        "    def magnetCost(self):\n",
        "        return self.magnetVolume() * costData[\"Magnet\"];\n",
        "\n",
        "    def engineCost(self):\n",
        "        return self.railMax * self.railDraw / self.reloadTime / engineParams['PPC']\n",
        "    \n",
        "    def builldCost(self):\n",
        "        return (\n",
        "            self.loaderCost() +\n",
        "            self.recoilCost() +\n",
        "            self.coolerCost() +\n",
        "            self.chargerCost() +\n",
        "            self.magnetCost() +\n",
        "            self.engineCost()\n",
        "        )\n",
        "    \n",
        "    def projectileCost(self):\n",
        "        return 1\n",
        "    \n",
        "    def costPerIntake(self):\n",
        "        return self.builldCost + (self.projectileCost / self.reloadTime) * 60 * 10 #TODO: battle duration parameter\n",
        "  "
      ],
      "metadata": {
        "id": "62Y-MBdUv5ca"
      },
      "execution_count": null,
      "outputs": []
    },
    {
      "cell_type": "code",
      "source": [
        "def optimizationGoalSimple(shell):\n",
        "    return (\n",
        "        (shell.kineticDamage()** clampWeight(KDWeight) * shell.chemDamage()** clampWeight(CDWeight) * shell.Uptime()** clampWeight(BeltUptimeWeight)) /\n",
        "        shell.reloadTime()** clampWeight(ROFWeight) / shell.volumePerIntake()** clampWeight(VolumeWeight) / shell.costPerIntake()** clampWeight(CostWeight)\n",
        "    )"
      ],
      "metadata": {
        "id": "OXYfZEkpwY8N"
      },
      "execution_count": null,
      "outputs": []
    },
    {
      "cell_type": "code",
      "source": [
        "def optimizationGoalDetailed(shell):\n",
        "    return (\n",
        "        (shell.kineticDamageVsAngled()** clampWeight(KDWeight) * shell.AppliedchemDamage()** clampWeight(CDWeight) * shell.Uptime()** clampWeight(BeltUptimeWeight)) /\n",
        "        shell.reloadTime()** clampWeight(ROFWeight) / shell.volumePerIntake()** clampWeight(VolumeWeight) / shell.costPerIntake()** clampWeight(CostWeight)\n",
        "    )"
      ],
      "metadata": {
        "id": "LesR7xsBqa6t"
      },
      "execution_count": null,
      "outputs": []
    },
    {
      "cell_type": "code",
      "source": [
        "def firstPassKeys():\n",
        "    keys = {\"GP\", \"Solid\", \"Sabot\"}\n",
        "\n",
        "    if CDWeight > 0:\n",
        "        keys.add(\"Chem\")\n",
        "    if railChoice:\n",
        "        keys.add(\"RailDraw\")\n",
        "    \n",
        "    return keys"
      ],
      "metadata": {
        "id": "5dLI2yLNv-v6"
      },
      "execution_count": null,
      "outputs": []
    },
    {
      "cell_type": "code",
      "source": [
        "def clampWeight(num):\n",
        "   return max(min(num, 1), 1e6)"
      ],
      "metadata": {
        "id": "W5IVRPUfv90U"
      },
      "execution_count": null,
      "outputs": []
    },
    {
      "cell_type": "markdown",
      "source": [
        "###Shell Data"
      ],
      "metadata": {
        "id": "4dYwV5g7vUGP"
      }
    },
    {
      "cell_type": "code",
      "source": [
        "loaderLengths = [\"Belt\", 1, 2, 3, 4, 6, 8]\n",
        "\n",
        "headData = {\n",
        "    \"AP\": {\n",
        "        \"VelocityMod\": 1.6,\n",
        "        \"KineticDamageMod\": 1.0,\n",
        "        \"ArmorPierceMod\": 1.65,\n",
        "        \"ChemMod\": 1.0,\n",
        "        \"ShortName\": \"AP\",\n",
        "    },\n",
        "    \"Sabot\": {\n",
        "        \"VelocityMod\": 1.6,\n",
        "        \"KineticDamageMod\": 0.85,\n",
        "        \"ArmorPierceMod\": 2.5,\n",
        "        \"ChemMod\": 0.25,\n",
        "        \"ShortName\": \"Sab\",\n",
        "    },\n",
        "    \"Heavy\": {\n",
        "        \"VelocityMod\": 1.45,\n",
        "        \"KineticDamageMod\": 1.65,\n",
        "        \"ArmorPierceMod\": 1.0,\n",
        "        \"ChemMod\": 1.0,\n",
        "        \"ShortName\": \"Hvy\",\n",
        "    },\n",
        "    \"HP\": {\n",
        "        \"VelocityMod\": 1.45,\n",
        "        \"KineticDamageMod\": 1.2,\n",
        "        \"ArmorPierceMod\": 1.0,\n",
        "        \"ChemMod\": 1.0,\n",
        "        \"ShortName\": \"HP\",\n",
        "    },\n",
        "    \"Chem\": {\n",
        "        \"VelocityMod\": 1.3,\n",
        "        \"KineticDamageMod\": 1.0,\n",
        "        \"ArmorPierceMod\": 0.1,\n",
        "        \"ChemMod\": 1.0,\n",
        "        \"IsChem\": True,\n",
        "        \"ShortName\": \"Chem\",\n",
        "    },\n",
        "    \"Special\": {\n",
        "        \"VelocityMod\": 1.45,\n",
        "        \"KineticDamageMod\": 0.1,\n",
        "        \"ArmorPierceMod\": 0.1,\n",
        "        \"ChemMod\": 1.0,\n",
        "        \"IsChem\": True,\n",
        "        \"ShortName\": \"Spc\",\n",
        "    },\n",
        "}\n",
        "bodyData = {\n",
        "    \"SolidBody\": {\n",
        "        \"VelocityMod\": 1.1,\n",
        "        \"KineticDamageMod\": 1.0,\n",
        "        \"ArmorPierceMod\": 1.0,\n",
        "        \"ChemMod\": 1.0,\n",
        "        \"ShortName\": \"Sol\",\n",
        "    },\n",
        "    \"SabotBody\": {\n",
        "        \"VelocityMod\": 1.1,\n",
        "        \"KineticDamageMod\": 0.8,\n",
        "        \"ArmorPierceMod\": 1.4,\n",
        "        \"ChemMod\": 0.25,\n",
        "        \"ShortName\": \"Sab\",\n",
        "    },\n",
        "    \"ChemBody\": {\n",
        "        \"VelocityMod\": 1.0,\n",
        "        \"KineticDamageMod\": 1.0,\n",
        "        \"ArmorPierceMod\": 0.1,\n",
        "        \"ChemMod\": 1.0,\n",
        "        \"ShortName\": \"Chem\",\n",
        "    },\n",
        "    \"Fuse\": {\n",
        "        \"VelocityMod\": 1.0,\n",
        "        \"KineticDamageMod\": 1.0,\n",
        "        \"ArmorPierceMod\": 1.0,\n",
        "        \"ChemMod\": 1.0,\n",
        "        \"MaxLength\": 100,\n",
        "        \"ShortName\": \"Fuse\",\n",
        "    }\n",
        "}\n",
        "baseData = {\n",
        "    \"BaseBleeder\": {\n",
        "        \"VelocityMod\": 1.0,  # special +0.15 bonus handled elsewhere\n",
        "        \"KineticDamageMod\": 1.0,\n",
        "        \"ArmorPierceMod\": 1.0,\n",
        "        \"ChemMod\": 1.0,\n",
        "        \"MaxLength\": 100,\n",
        "        \"ShortName\": \"BB\",\n",
        "    },\n",
        "    \"Tracer\": {\n",
        "        \"VelocityMod\": 1.0,\n",
        "        \"KineticDamageMod\": 1.0,\n",
        "        \"ArmorPierceMod\": 1.0,\n",
        "        \"ChemMod\": 1.0,\n",
        "        \"MaxLength\": 100,\n",
        "        \"ShortName\": \"Tracer\",\n",
        "    }\n",
        "}\n",
        "\n"
      ],
      "metadata": {
        "id": "Ept3qX9ajkzc"
      },
      "execution_count": null,
      "outputs": []
    },
    {
      "cell_type": "markdown",
      "source": [
        "###Cost Data"
      ],
      "metadata": {
        "id": "6JJDWeUqvgme"
      }
    },
    {
      "cell_type": "code",
      "source": [
        "costData = {\n",
        "    \"InputFeeder\": 50,\n",
        "    \"Cooler\": 50,\n",
        "    \"RecoilAbsorber\": 80, # 80 per meter, longer ones scale linearly\n",
        "    \"RailCharger\": 400,\n",
        "    \"RailMagnet\": 300,\n",
        "    \"Ejector\": 10,\n",
        "    \"Loader\": {\n",
        "        \"Belt\": 600,\n",
        "        1: 240,\n",
        "        2: 300,\n",
        "        3: 330,\n",
        "        4: 360,\n",
        "        5: 390,\n",
        "        6: 420,\n",
        "        7: 450,\n",
        "        8: 480,\n",
        "    },\n",
        "    \"Clip\": {\n",
        "        \"Belt\": 160,\n",
        "        1: 160,\n",
        "        2: 200,\n",
        "        3: 220,\n",
        "        4: 240,\n",
        "        5: 260,\n",
        "        6: 280,\n",
        "        7: 300,\n",
        "        8: 320,\n",
        "    },\n",
        "}"
      ],
      "metadata": {
        "id": "oVze4LaZvhuG"
      },
      "execution_count": null,
      "outputs": []
    }
  ],
  "metadata": {
    "kernelspec": {
      "display_name": "Python 3 (ipykernel)",
      "language": "python",
      "name": "python3"
    },
    "language_info": {
      "codemirror_mode": {
        "name": "ipython",
        "version": 3
      },
      "file_extension": ".py",
      "mimetype": "text/x-python",
      "name": "python",
      "nbconvert_exporter": "python",
      "pygments_lexer": "ipython3",
      "version": "3.9.12"
    },
    "colab": {
      "provenance": [],
      "toc_visible": true,
      "include_colab_link": true
    }
  },
  "nbformat": 4,
  "nbformat_minor": 0
}